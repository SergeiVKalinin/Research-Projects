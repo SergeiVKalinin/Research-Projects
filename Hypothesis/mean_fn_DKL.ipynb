{
  "nbformat": 4,
  "nbformat_minor": 0,
  "metadata": {
    "colab": {
      "provenance": [],
      "include_colab_link": true
    },
    "kernelspec": {
      "name": "python3",
      "display_name": "Python 3"
    },
    "language_info": {
      "name": "python"
    }
  },
  "cells": [
    {
      "cell_type": "markdown",
      "metadata": {
        "id": "view-in-github",
        "colab_type": "text"
      },
      "source": [
        "<a href=\"https://colab.research.google.com/github/SergeiVKalinin/Research-Projects/blob/main/Hypothesis/mean_fn_DKL.ipynb\" target=\"_parent\"><img src=\"https://colab.research.google.com/assets/colab-badge.svg\" alt=\"Open In Colab\"/></a>"
      ]
    },
    {
      "cell_type": "code",
      "execution_count": null,
      "metadata": {
        "colab": {
          "base_uri": "https://localhost:8080/"
        },
        "id": "PQBWOvMuVGJn",
        "outputId": "b512ca6c-48bd-41b3-9ae1-8f2d5dc7ca2e"
      },
      "outputs": [
        {
          "output_type": "stream",
          "name": "stdout",
          "text": [
            "Collecting git+https://github.com/ziatdinovmax/gpax@mfDKL\n",
            "  Cloning https://github.com/ziatdinovmax/gpax (to revision mfDKL) to /tmp/pip-req-build-mk_edbi_\n",
            "  Running command git clone --filter=blob:none --quiet https://github.com/ziatdinovmax/gpax /tmp/pip-req-build-mk_edbi_\n",
            "  Running command git checkout -b mfDKL --track origin/mfDKL\n",
            "  Switched to a new branch 'mfDKL'\n",
            "  Branch 'mfDKL' set up to track remote branch 'mfDKL' from 'origin'.\n",
            "  Resolved https://github.com/ziatdinovmax/gpax to commit c5b3007460c996738b8cebcb1e06e34143e56fc1\n",
            "  Installing build dependencies ... \u001b[?25l\u001b[?25hdone\n",
            "  Getting requirements to build wheel ... \u001b[?25l\u001b[?25hdone\n",
            "  Preparing metadata (pyproject.toml) ... \u001b[?25l\u001b[?25hdone\n",
            "Requirement already satisfied: jax>=0.4.8 in /usr/local/lib/python3.10/dist-packages (from gpax==0.1.7) (0.4.26)\n",
            "Collecting numpyro>=0.11.0 (from gpax==0.1.7)\n",
            "  Downloading numpyro-0.14.0-py3-none-any.whl (330 kB)\n",
            "\u001b[2K     \u001b[90m━━━━━━━━━━━━━━━━━━━━━━━━━━━━━━━━━━━━━━━━\u001b[0m \u001b[32m330.2/330.2 kB\u001b[0m \u001b[31m4.4 MB/s\u001b[0m eta \u001b[36m0:00:00\u001b[0m\n",
            "\u001b[?25hCollecting dm-haiku>=0.0.5 (from gpax==0.1.7)\n",
            "  Downloading dm_haiku-0.0.12-py3-none-any.whl (371 kB)\n",
            "\u001b[2K     \u001b[90m━━━━━━━━━━━━━━━━━━━━━━━━━━━━━━━━━━━━━━━━\u001b[0m \u001b[32m371.7/371.7 kB\u001b[0m \u001b[31m26.4 MB/s\u001b[0m eta \u001b[36m0:00:00\u001b[0m\n",
            "\u001b[?25hRequirement already satisfied: matplotlib>=3.1 in /usr/local/lib/python3.10/dist-packages (from gpax==0.1.7) (3.7.1)\n",
            "Requirement already satisfied: absl-py>=0.7.1 in /usr/local/lib/python3.10/dist-packages (from dm-haiku>=0.0.5->gpax==0.1.7) (1.4.0)\n",
            "Collecting jmp>=0.0.2 (from dm-haiku>=0.0.5->gpax==0.1.7)\n",
            "  Downloading jmp-0.0.4-py3-none-any.whl (18 kB)\n",
            "Requirement already satisfied: numpy>=1.18.0 in /usr/local/lib/python3.10/dist-packages (from dm-haiku>=0.0.5->gpax==0.1.7) (1.25.2)\n",
            "Requirement already satisfied: tabulate>=0.8.9 in /usr/local/lib/python3.10/dist-packages (from dm-haiku>=0.0.5->gpax==0.1.7) (0.9.0)\n",
            "Requirement already satisfied: flax>=0.7.1 in /usr/local/lib/python3.10/dist-packages (from dm-haiku>=0.0.5->gpax==0.1.7) (0.8.2)\n",
            "Requirement already satisfied: ml-dtypes>=0.2.0 in /usr/local/lib/python3.10/dist-packages (from jax>=0.4.8->gpax==0.1.7) (0.2.0)\n",
            "Requirement already satisfied: opt-einsum in /usr/local/lib/python3.10/dist-packages (from jax>=0.4.8->gpax==0.1.7) (3.3.0)\n",
            "Requirement already satisfied: scipy>=1.9 in /usr/local/lib/python3.10/dist-packages (from jax>=0.4.8->gpax==0.1.7) (1.11.4)\n",
            "Requirement already satisfied: contourpy>=1.0.1 in /usr/local/lib/python3.10/dist-packages (from matplotlib>=3.1->gpax==0.1.7) (1.2.1)\n",
            "Requirement already satisfied: cycler>=0.10 in /usr/local/lib/python3.10/dist-packages (from matplotlib>=3.1->gpax==0.1.7) (0.12.1)\n",
            "Requirement already satisfied: fonttools>=4.22.0 in /usr/local/lib/python3.10/dist-packages (from matplotlib>=3.1->gpax==0.1.7) (4.50.0)\n",
            "Requirement already satisfied: kiwisolver>=1.0.1 in /usr/local/lib/python3.10/dist-packages (from matplotlib>=3.1->gpax==0.1.7) (1.4.5)\n",
            "Requirement already satisfied: packaging>=20.0 in /usr/local/lib/python3.10/dist-packages (from matplotlib>=3.1->gpax==0.1.7) (24.0)\n",
            "Requirement already satisfied: pillow>=6.2.0 in /usr/local/lib/python3.10/dist-packages (from matplotlib>=3.1->gpax==0.1.7) (9.4.0)\n",
            "Requirement already satisfied: pyparsing>=2.3.1 in /usr/local/lib/python3.10/dist-packages (from matplotlib>=3.1->gpax==0.1.7) (3.1.2)\n",
            "Requirement already satisfied: python-dateutil>=2.7 in /usr/local/lib/python3.10/dist-packages (from matplotlib>=3.1->gpax==0.1.7) (2.8.2)\n",
            "Requirement already satisfied: jaxlib>=0.4.14 in /usr/local/lib/python3.10/dist-packages (from numpyro>=0.11.0->gpax==0.1.7) (0.4.26+cuda12.cudnn89)\n",
            "Requirement already satisfied: multipledispatch in /usr/local/lib/python3.10/dist-packages (from numpyro>=0.11.0->gpax==0.1.7) (1.0.0)\n",
            "Requirement already satisfied: tqdm in /usr/local/lib/python3.10/dist-packages (from numpyro>=0.11.0->gpax==0.1.7) (4.66.2)\n",
            "Requirement already satisfied: msgpack in /usr/local/lib/python3.10/dist-packages (from flax>=0.7.1->dm-haiku>=0.0.5->gpax==0.1.7) (1.0.8)\n",
            "Requirement already satisfied: optax in /usr/local/lib/python3.10/dist-packages (from flax>=0.7.1->dm-haiku>=0.0.5->gpax==0.1.7) (0.2.2)\n",
            "Requirement already satisfied: orbax-checkpoint in /usr/local/lib/python3.10/dist-packages (from flax>=0.7.1->dm-haiku>=0.0.5->gpax==0.1.7) (0.4.4)\n",
            "Requirement already satisfied: tensorstore in /usr/local/lib/python3.10/dist-packages (from flax>=0.7.1->dm-haiku>=0.0.5->gpax==0.1.7) (0.1.45)\n",
            "Requirement already satisfied: rich>=11.1 in /usr/local/lib/python3.10/dist-packages (from flax>=0.7.1->dm-haiku>=0.0.5->gpax==0.1.7) (13.7.1)\n",
            "Requirement already satisfied: typing-extensions>=4.2 in /usr/local/lib/python3.10/dist-packages (from flax>=0.7.1->dm-haiku>=0.0.5->gpax==0.1.7) (4.10.0)\n",
            "Requirement already satisfied: PyYAML>=5.4.1 in /usr/local/lib/python3.10/dist-packages (from flax>=0.7.1->dm-haiku>=0.0.5->gpax==0.1.7) (6.0.1)\n",
            "Requirement already satisfied: six>=1.5 in /usr/local/lib/python3.10/dist-packages (from python-dateutil>=2.7->matplotlib>=3.1->gpax==0.1.7) (1.16.0)\n",
            "Requirement already satisfied: markdown-it-py>=2.2.0 in /usr/local/lib/python3.10/dist-packages (from rich>=11.1->flax>=0.7.1->dm-haiku>=0.0.5->gpax==0.1.7) (3.0.0)\n",
            "Requirement already satisfied: pygments<3.0.0,>=2.13.0 in /usr/local/lib/python3.10/dist-packages (from rich>=11.1->flax>=0.7.1->dm-haiku>=0.0.5->gpax==0.1.7) (2.16.1)\n",
            "Requirement already satisfied: chex>=0.1.86 in /usr/local/lib/python3.10/dist-packages (from optax->flax>=0.7.1->dm-haiku>=0.0.5->gpax==0.1.7) (0.1.86)\n",
            "Requirement already satisfied: etils[epath,epy] in /usr/local/lib/python3.10/dist-packages (from orbax-checkpoint->flax>=0.7.1->dm-haiku>=0.0.5->gpax==0.1.7) (1.7.0)\n",
            "Requirement already satisfied: nest_asyncio in /usr/local/lib/python3.10/dist-packages (from orbax-checkpoint->flax>=0.7.1->dm-haiku>=0.0.5->gpax==0.1.7) (1.6.0)\n",
            "Requirement already satisfied: protobuf in /usr/local/lib/python3.10/dist-packages (from orbax-checkpoint->flax>=0.7.1->dm-haiku>=0.0.5->gpax==0.1.7) (3.20.3)\n",
            "Requirement already satisfied: toolz>=0.9.0 in /usr/local/lib/python3.10/dist-packages (from chex>=0.1.86->optax->flax>=0.7.1->dm-haiku>=0.0.5->gpax==0.1.7) (0.12.1)\n",
            "Requirement already satisfied: mdurl~=0.1 in /usr/local/lib/python3.10/dist-packages (from markdown-it-py>=2.2.0->rich>=11.1->flax>=0.7.1->dm-haiku>=0.0.5->gpax==0.1.7) (0.1.2)\n",
            "Requirement already satisfied: fsspec in /usr/local/lib/python3.10/dist-packages (from etils[epath,epy]->orbax-checkpoint->flax>=0.7.1->dm-haiku>=0.0.5->gpax==0.1.7) (2023.6.0)\n",
            "Requirement already satisfied: importlib_resources in /usr/local/lib/python3.10/dist-packages (from etils[epath,epy]->orbax-checkpoint->flax>=0.7.1->dm-haiku>=0.0.5->gpax==0.1.7) (6.4.0)\n",
            "Requirement already satisfied: zipp in /usr/local/lib/python3.10/dist-packages (from etils[epath,epy]->orbax-checkpoint->flax>=0.7.1->dm-haiku>=0.0.5->gpax==0.1.7) (3.18.1)\n",
            "Building wheels for collected packages: gpax\n",
            "  Building wheel for gpax (pyproject.toml) ... \u001b[?25l\u001b[?25hdone\n",
            "  Created wheel for gpax: filename=gpax-0.1.7-py3-none-any.whl size=102227 sha256=913a23d6f143b31925163064743d23ebc52b559266336209cd637402f5d2f90d\n",
            "  Stored in directory: /tmp/pip-ephem-wheel-cache-_ho4z0_2/wheels/69/0b/af/8044884b601f4918ed3d0b9d3b50357d233011fc7908bf47f8\n",
            "Successfully built gpax\n",
            "Installing collected packages: jmp, numpyro, dm-haiku, gpax\n",
            "Successfully installed dm-haiku-0.0.12 gpax-0.1.7 jmp-0.0.4 numpyro-0.14.0\n"
          ]
        }
      ],
      "source": [
        "pip install git+https://github.com/ziatdinovmax/gpax@mfDKL"
      ]
    },
    {
      "cell_type": "code",
      "source": [
        "import gpax\n",
        "\n",
        "import numpy as np"
      ],
      "metadata": {
        "id": "RH5p1hKBVkfC"
      },
      "execution_count": null,
      "outputs": []
    },
    {
      "cell_type": "code",
      "source": [
        "X_train = np.random.randn(32, 16)\n",
        "y_train = np.random.randn(32)\n",
        "X_test = np.random.randn(100, 16)"
      ],
      "metadata": {
        "id": "cxEViauQVopd"
      },
      "execution_count": null,
      "outputs": []
    },
    {
      "cell_type": "code",
      "source": [
        "def mean_fn_(x, a, b):\n",
        "    return a*x[:, 0] + b*x[:, 1]\n",
        "\n",
        "latent_mean_fn = gpax.utils.set_fn(mean_fn_)\n",
        "latent_mean_fn_prior = gpax.utils.auto_normal_priors(mean_fn_)"
      ],
      "metadata": {
        "id": "kShfdE2HViuh"
      },
      "execution_count": null,
      "outputs": []
    },
    {
      "cell_type": "code",
      "source": [
        "key1, key2 = gpax.utils.get_keys()\n",
        "\n",
        "model = gpax.viDKL(input_dim=X_train.shape[-1], z_dim=2,\n",
        "                   latent_mean_fn=latent_mean_fn,\n",
        "                   latent_mean_fn_prior=latent_mean_fn_prior)\n",
        "\n",
        "model.fit(key1, X_train, y_train, num_steps=1000, step_size=5e-2)\n",
        "\n",
        "y_pred, y_var = model.predict(key2, X_test)"
      ],
      "metadata": {
        "colab": {
          "base_uri": "https://localhost:8080/"
        },
        "id": "DuEiy2AIVKEi",
        "outputId": "e3d6915f-cec1-4eff-8a70-deb61f15a067"
      },
      "execution_count": null,
      "outputs": [
        {
          "output_type": "stream",
          "name": "stderr",
          "text": [
            "100%|██████████| 1000/1000 [00:01<00:00, 511.92it/s, init loss: 5271.2256, avg. loss [951-1000]: 5043.4421]\n"
          ]
        },
        {
          "output_type": "stream",
          "name": "stdout",
          "text": [
            "\n",
            "Inferred GP kernel parameters\n",
            "a                0.7084\n",
            "b                -0.84349996\n",
            "k_length         [1.7609999 1.046    ]\n",
            "k_scale          1.5060999\n",
            "noise            0.2021\n"
          ]
        }
      ]
    },
    {
      "cell_type": "code",
      "source": [],
      "metadata": {
        "id": "JdUmqx6hV0El"
      },
      "execution_count": null,
      "outputs": []
    }
  ]
}