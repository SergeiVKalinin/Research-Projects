{
  "cells": [
    {
      "cell_type": "markdown",
      "metadata": {
        "id": "view-in-github",
        "colab_type": "text"
      },
      "source": [
        "<a href=\"https://colab.research.google.com/github/SergeiVKalinin/Research-Projects/blob/main/Perovskites/Compounds_dataset.ipynb\" target=\"_parent\"><img src=\"https://colab.research.google.com/assets/colab-badge.svg\" alt=\"Open In Colab\"/></a>"
      ]
    },
    {
      "cell_type": "markdown",
      "source": [
        "This notebook is built by Ivan Popov, ipopov@utk.edu, November 29, 2023"
      ],
      "metadata": {
        "id": "Gv005Jw519GQ"
      },
      "id": "Gv005Jw519GQ"
    },
    {
      "cell_type": "code",
      "execution_count": null,
      "id": "240610c3",
      "metadata": {
        "id": "240610c3"
      },
      "outputs": [],
      "source": [
        "\"\"\"\n",
        "Downloading data from https://materials.hybrid3.duke.edu/\n",
        "\n",
        "Database have atomic structure as a *.cif file for 528 different materials. Also, it contains some other physical\n",
        "properties such as Photoluminescence or band gap. This script demonstrate how to download some dataset from website\n",
        "\"\"\"\n",
        "\n",
        "\n",
        "import requests, pprint"
      ]
    },
    {
      "cell_type": "code",
      "execution_count": null,
      "id": "6fcc795d",
      "metadata": {
        "id": "6fcc795d",
        "outputId": "7b531652-e956-4064-fa03-340a7eef222f",
        "colab": {
          "base_uri": "https://localhost:8080/"
        }
      },
      "outputs": [
        {
          "output_type": "stream",
          "name": "stdout",
          "text": [
            "Total number of material: 528\n"
          ]
        }
      ],
      "source": [
        "# The list of avalibale materials can be downloaded as next;\n",
        "responseURL = requests.get('https://materials.hybrid3.duke.edu/materials/systems/')\n",
        "dictMaterial = responseURL.json()\n",
        "\n",
        "print(\"Total number of material:\", dictMaterial['count'])"
      ]
    },
    {
      "cell_type": "code",
      "execution_count": null,
      "id": "b19a58c3",
      "metadata": {
        "id": "b19a58c3",
        "outputId": "a63a5d9f-f025-48f2-81d3-0d58a4e8cb5c",
        "colab": {
          "base_uri": "https://localhost:8080/"
        }
      },
      "outputs": [
        {
          "output_type": "stream",
          "name": "stdout",
          "text": [
            "the url with API for material under number 110 is avaliabele at:\n",
            " https://materials.hybrid3.duke.edu/materials/437\n",
            "\n",
            "Example of info about material number: 110\n",
            "pk :\t 437\n",
            "compound_name :\t N, N′-Dimethylpyrazinium lead iodide\n",
            "formula :\t C6H10N2Pb2I6\n",
            "group :\t (dmpz)[Pb2I6],N, N‚Ä≤-dimethylpyrazinium hexaiodo diplumbate(II)\n",
            "organic :\t C6H10N2\n",
            "inorganic :\t Pb2I6, Lead iodide\n",
            "iupac :\t N, N′-dimethylpyrazinium lead iodide\n",
            "last_update :\t 2021-12-07\n",
            "derived_to_from :\t []\n",
            "description :\t dmpz = N, N’-Dimethylpyrazinium\n"
          ]
        }
      ],
      "source": [
        "idxMaterial = 110  #put any number between [1, 528]\n",
        "\n",
        "\n",
        "numMaterial = dictMaterial['results'][idxMaterial]['pk']\n",
        "url = 'https://materials.hybrid3.duke.edu/materials/{}'.format(numMaterial)\n",
        "print(\"the url with API for material under number {} is avaliabele at:\\n\".format(idxMaterial), url)\n",
        "\n",
        "print(\"\\nExample of info about material number:\", idxMaterial)\n",
        "for k, v in (dictMaterial['results'][idxMaterial]).items():\n",
        "    print(k, ':\\t', v)"
      ]
    },
    {
      "cell_type": "code",
      "execution_count": null,
      "id": "e05af41c",
      "metadata": {
        "id": "e05af41c",
        "outputId": "7cf46c92-a6c0-439d-e862-5bb07d974ea3",
        "colab": {
          "base_uri": "https://localhost:8080/"
        }
      },
      "outputs": [
        {
          "output_type": "stream",
          "name": "stdout",
          "text": [
            "\n",
            "There are 7 results for this material:\n",
            "Conductivity  vs  1/T\n",
            "activation energy for electrical conduction\n",
            "Conductivity\n",
            "absorption spectrum  vs  Energy\n",
            "absorption spectrum  vs  Energy\n",
            "absorption spectrum  vs  Energy\n",
            "absorption coefficient\n"
          ]
        }
      ],
      "source": [
        "# To get avaliable dataset for material we need request it as follows:\n",
        "url='https://materials.hybrid3.duke.edu/materials/datasets/?system={}'.format(numMaterial)\n",
        "responseURL = requests.get(url)\n",
        "dataset = responseURL.json()\n",
        "\n",
        "print(\"\\nThere are {} results for this material:\".format(len(dataset['results'])))\n",
        "for i in dataset['results']:\n",
        "    if i['secondary_property'] is None:\n",
        "        print(i['primary_property']['name'])\n",
        "    else:\n",
        "        print(i['primary_property']['name'], ' vs ', i['secondary_property']['name'])"
      ]
    },
    {
      "cell_type": "code",
      "execution_count": null,
      "id": "75dced28",
      "metadata": {
        "id": "75dced28",
        "outputId": "b41a5f27-a327-4f6b-c166-7e9b96915dfb",
        "colab": {
          "base_uri": "https://localhost:8080/"
        }
      },
      "outputs": [
        {
          "output_type": "stream",
          "name": "stdout",
          "text": [
            "\n",
            " Data for specific property:\n",
            "\n",
            " (Primary) Conductivity(S•cm^{-1})  vs (Secondary) 1/T(K^{-1}). Data also avaliable at url: https://materials.hybrid3.duke.edu/materials/datasets/1786/files/\n",
            "Data for this property\n",
            "[['-7.27977', '0.00259145'],\n",
            " ['-7.43467', '0.00264638'],\n",
            " ['-7.72493', '0.00270453'],\n",
            " ['-8.01388', '0.00277939'],\n",
            " ['-8.37333', '0.00285745']]\n",
            "\n",
            " (Primary) activation energy for electrical conduction(eV). Data also avaliable at url: https://materials.hybrid3.duke.edu/materials/datasets/1785/files/\n",
            "Data for this property\n",
            "[['0.85']]\n",
            "\n",
            " (Primary) Conductivity(S•cm^{-1}). Data also avaliable at url: https://materials.hybrid3.duke.edu/materials/datasets/1784/files/\n",
            "Data for this property\n",
            "[['3.6e-08']]\n",
            "\n",
            " (Primary) absorption spectrum(a.u)  vs (Secondary) Energy(eV). Data also avaliable at url: https://materials.hybrid3.duke.edu/materials/datasets/1783/files/\n",
            "Data for this property\n",
            "[['0.08334', '1.00482'],\n",
            " ['0.08344', '1.06774'],\n",
            " ['0.08353', '1.13066'],\n",
            " ['0.08362', '1.19358'],\n",
            " ['0.08372', '1.2565'],\n",
            " ['0.08381', '1.31942'],\n",
            " ['0.09066', '1.37981'],\n",
            " ['0.11777', '1.43511'],\n",
            " ['0.16062', '1.47527'],\n",
            " ['0.21022', '1.50534'],\n",
            " ['0.26205', '1.52786'],\n",
            " ['0.31613', '1.54535'],\n",
            " ['0.37021', '1.56031'],\n",
            " ['0.42429', '1.57527'],\n",
            " ['0.47837', '1.59527'],\n",
            " ['0.53021', '1.61779'],\n",
            " ['0.58429', '1.64031'],\n",
            " ['0.63389', '1.66787'],\n",
            " ['0.68348', '1.69543'],\n",
            " ['0.73083', '1.73054'],\n",
            " ['0.77593', '1.76818'],\n",
            " ['0.81878', '1.80583'],\n",
            " ['0.85713', '1.85103'],\n",
            " ['0.88648', '1.89626'],\n",
            " ['0.90683', '1.94906'],\n",
            " ['0.91818', '2.00943'],\n",
            " ['0.92502', '2.06479'],\n",
            " ['0.91385', '2.1227'],\n",
            " ['0.91839', '2.15037'],\n",
            " ['0.88468', '2.19828'],\n",
            " ['0.89822', '2.21586'],\n",
            " ['0.89374', '2.23349'],\n",
            " ['0.84876', '2.27135'],\n",
            " ['0.81278', '2.3092'],\n",
            " ['0.85338', '2.34936'],\n",
            " ['0.93451', '2.38691'],\n",
            " ['0.97062', '2.43464'],\n",
            " ['0.98648', '2.49248']]\n",
            "\n",
            " (Primary) absorption spectrum(a.u)  vs (Secondary) Energy(eV). Data also avaliable at url: https://materials.hybrid3.duke.edu/materials/datasets/1782/files/\n",
            "Data for this property\n",
            "[['0.08048', '1.0086'],\n",
            " ['0.08048', '1.18985'],\n",
            " ['0.09104', '1.2696'],\n",
            " ['0.12369', '1.34815'],\n",
            " ['0.17557', '1.40011'],\n",
            " ['0.39203', '1.51215'],\n",
            " ['0.55136', '1.56106'],\n",
            " ['0.62893', '1.61285'],\n",
            " ['0.67214', '1.63936'],\n",
            " ['0.73166', '1.7078'],\n",
            " ['0.77251', '1.75537'],\n",
            " ['0.8239', '1.89194'],\n",
            " ['0.85115', '2.01854'],\n",
            " ['0.83857', '2.15953'],\n",
            " ['0.826', '2.1883'],\n",
            " ['0.83648', '2.2257'],\n",
            " ['0.79665', '2.30627'],\n",
            " ['0.85115', '2.38683'],\n",
            " ['0.87631', '2.48753'],\n",
            " ['0.84696', '2.6429'],\n",
            " ['0.85115', '2.80978'],\n",
            " ['0.84119', '2.85739'],\n",
            " ['0.82006', '3.0314'],\n",
            " ['0.80294', '3.11765'],\n",
            " ['0.79874', '3.26439']]\n",
            "\n",
            " (Primary) absorption spectrum(a.u)  vs (Secondary) Energy(eV). Data also avaliable at url: https://materials.hybrid3.duke.edu/materials/datasets/1781/files/\n",
            "Data for this property\n",
            "[['0.09495', '1.2118'],\n",
            " ['0.07382', '1.30384'],\n",
            " ['0.08086', '1.3997'],\n",
            " ['0.12312', '1.48787'],\n",
            " ['0.19354', '1.57603'],\n",
            " ['0.271', '1.66419'],\n",
            " ['0.34143', '1.74852'],\n",
            " ['0.40481', '1.83668'],\n",
            " ['0.46114', '1.92869'],\n",
            " ['0.52452', '2.01302'],\n",
            " ['0.60903', '2.09733'],\n",
            " ['0.70762', '2.17398'],\n",
            " ['0.84142', '2.23527'],\n",
            " ['1.0034', '2.2697'],\n",
            " ['1.17241', '2.29263'],\n",
            " ['1.34847', '2.30405'],\n",
            " ['1.52452', '2.31547'],\n",
            " ['1.70058', '2.33072'],\n",
            " ['1.86255', '2.35749'],\n",
            " ['1.79917', '2.43038'],\n",
            " ['1.75692', '2.51859'],\n",
            " ['1.80621', '2.60676'],\n",
            " ['1.86959', '2.68726'],\n",
            " ['1.83438', '2.7793'],\n",
            " ['1.87663', '2.86748'],\n",
            " ['1.94706', '2.9518'],\n",
            " ['2.00339', '3.03614'],\n",
            " ['2.04565', '3.12431']]\n",
            "\n",
            " (Primary) absorption coefficient(mm^{-1}). Data also avaliable at url: https://materials.hybrid3.duke.edu/materials/datasets/1780/files/\n",
            "Data for this property\n",
            "[['27.855']]\n"
          ]
        }
      ],
      "source": [
        "# if property is not atomic structure, then the data are contained in dataset and we can print them\n",
        "print(\"\\n Data for specific property:\")\n",
        "for i in dataset['results']:\n",
        "    url = 'https://materials.hybrid3.duke.edu/materials/datasets/{}/files/'.format(i['pk'])\n",
        "    if i['secondary_property'] is None:\n",
        "        unit1 = i['primary_unit']['label']\n",
        "        print(\"\\n (Primary) {}({}). Data also avaliable at url: {}\".format(i['primary_property']['name'], unit1, url))\n",
        "    else:\n",
        "        unit1, unit2 = i['primary_unit']['label'], i['secondary_unit']['label']\n",
        "        print('\\n (Primary) {}({})  vs (Secondary) {}({}). Data also avaliable at url: {}'.format(\n",
        "            i['primary_property']['name'], unit1, i['secondary_property']['name'], unit2, url))\n",
        "\n",
        "    if i['primary_property']['name'] != 'atomic structure':\n",
        "        datalist = []\n",
        "        print(\"Data for this property\")\n",
        "        for x in i['subsets'][0]['datapoints']:\n",
        "            vv = [v['formatted'] for v in x['values']]\n",
        "            if x['values'][0]['qualifier'] == 'secondary':\n",
        "                vv = vv[::-1]\n",
        "            datalist.append(vv)\n",
        "        pprint.pprint(datalist)\n",
        "\n",
        "    else:\n",
        "        print(\"Only *.cif file for atomic structure\")\n",
        "\n",
        "\n"
      ]
    },
    {
      "cell_type": "code",
      "execution_count": null,
      "id": "e4cd5403",
      "metadata": {
        "id": "e4cd5403"
      },
      "outputs": [],
      "source": []
    },
    {
      "cell_type": "code",
      "execution_count": null,
      "id": "ece36116",
      "metadata": {
        "id": "ece36116"
      },
      "outputs": [],
      "source": []
    }
  ],
  "metadata": {
    "kernelspec": {
      "display_name": "Python 3 (ipykernel)",
      "language": "python",
      "name": "python3"
    },
    "language_info": {
      "codemirror_mode": {
        "name": "ipython",
        "version": 3
      },
      "file_extension": ".py",
      "mimetype": "text/x-python",
      "name": "python",
      "nbconvert_exporter": "python",
      "pygments_lexer": "ipython3",
      "version": "3.8.8"
    },
    "colab": {
      "provenance": [],
      "include_colab_link": true
    }
  },
  "nbformat": 4,
  "nbformat_minor": 5
}