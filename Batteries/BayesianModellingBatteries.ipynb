{
  "nbformat": 4,
  "nbformat_minor": 0,
  "metadata": {
    "colab": {
      "provenance": [],
      "include_colab_link": true
    },
    "kernelspec": {
      "name": "python3",
      "display_name": "Python 3"
    },
    "language_info": {
      "name": "python"
    }
  },
  "cells": [
    {
      "cell_type": "markdown",
      "metadata": {
        "id": "view-in-github",
        "colab_type": "text"
      },
      "source": [
        "<a href=\"https://colab.research.google.com/github/SergeiVKalinin/Research-Projects/blob/main/Batteries/BayesianModellingBatteries.ipynb\" target=\"_parent\"><img src=\"https://colab.research.google.com/assets/colab-badge.svg\" alt=\"Open In Colab\"/></a>"
      ]
    },
    {
      "cell_type": "markdown",
      "source": [
        "## Bayesian modeling and hypothesis learning for battery state of health prediction (toy data)\n",
        "\n",
        "*Notebook by Maxim Ziatdinov (last updated - Jan 9 2023)*\n",
        "\n",
        "*Funding: ORNL CNMS user program*"
      ],
      "metadata": {
        "id": "Xf1WhJOBL7wd"
      }
    },
    {
      "cell_type": "markdown",
      "source": [
        "Install [GPax](https://github.com/ziatdinovmax/gpax) package:"
      ],
      "metadata": {
        "id": "5YWfV9UuLsV7"
      }
    },
    {
      "cell_type": "code",
      "source": [
        "!pip install git+https://github.com/ziatdinovmax/gpax"
      ],
      "metadata": {
        "colab": {
          "base_uri": "https://localhost:8080/"
        },
        "id": "BgoklhD10W1H",
        "outputId": "0e2c9592-3ae9-4ecf-f2ab-15e8d6c650f4"
      },
      "execution_count": null,
      "outputs": [
        {
          "output_type": "stream",
          "name": "stdout",
          "text": [
            "Looking in indexes: https://pypi.org/simple, https://us-python.pkg.dev/colab-wheels/public/simple/\n",
            "Collecting git+https://github.com/ziatdinovmax/gpax\n",
            "  Cloning https://github.com/ziatdinovmax/gpax to /tmp/pip-req-build-r67lmi83\n",
            "  Running command git clone --filter=blob:none --quiet https://github.com/ziatdinovmax/gpax /tmp/pip-req-build-r67lmi83\n",
            "  Resolved https://github.com/ziatdinovmax/gpax to commit 3b301fad78b7112ae615e39f5d5e21c6169c0f2e\n",
            "  Preparing metadata (setup.py) ... \u001b[?25l\u001b[?25hdone\n",
            "Requirement already satisfied: jax>=0.2.21 in /usr/local/lib/python3.8/dist-packages (from gpax==0.0.5) (0.3.25)\n",
            "Collecting numpyro>=0.8.0\n",
            "  Downloading numpyro-0.10.1-py3-none-any.whl (292 kB)\n",
            "\u001b[2K     \u001b[90m━━━━━━━━━━━━━━━━━━━━━━━━━━━━━━━━━━━━━━\u001b[0m \u001b[32m292.7/292.7 KB\u001b[0m \u001b[31m13.0 MB/s\u001b[0m eta \u001b[36m0:00:00\u001b[0m\n",
            "\u001b[?25hCollecting dm-haiku>=0.0.5\n",
            "  Downloading dm_haiku-0.0.9-py3-none-any.whl (352 kB)\n",
            "\u001b[2K     \u001b[90m━━━━━━━━━━━━━━━━━━━━━━━━━━━━━━━━━━━━━━\u001b[0m \u001b[32m352.1/352.1 KB\u001b[0m \u001b[31m21.9 MB/s\u001b[0m eta \u001b[36m0:00:00\u001b[0m\n",
            "\u001b[?25hRequirement already satisfied: matplotlib>=3.1 in /usr/local/lib/python3.8/dist-packages (from gpax==0.0.5) (3.2.2)\n",
            "Requirement already satisfied: absl-py>=0.7.1 in /usr/local/lib/python3.8/dist-packages (from dm-haiku>=0.0.5->gpax==0.0.5) (1.3.0)\n",
            "Requirement already satisfied: numpy>=1.18.0 in /usr/local/lib/python3.8/dist-packages (from dm-haiku>=0.0.5->gpax==0.0.5) (1.21.6)\n",
            "Requirement already satisfied: tabulate>=0.8.9 in /usr/local/lib/python3.8/dist-packages (from dm-haiku>=0.0.5->gpax==0.0.5) (0.8.10)\n",
            "Collecting jmp>=0.0.2\n",
            "  Downloading jmp-0.0.2-py3-none-any.whl (16 kB)\n",
            "Requirement already satisfied: scipy>=1.5 in /usr/local/lib/python3.8/dist-packages (from jax>=0.2.21->gpax==0.0.5) (1.7.3)\n",
            "Requirement already satisfied: opt-einsum in /usr/local/lib/python3.8/dist-packages (from jax>=0.2.21->gpax==0.0.5) (3.3.0)\n",
            "Requirement already satisfied: typing-extensions in /usr/local/lib/python3.8/dist-packages (from jax>=0.2.21->gpax==0.0.5) (4.4.0)\n",
            "Requirement already satisfied: python-dateutil>=2.1 in /usr/local/lib/python3.8/dist-packages (from matplotlib>=3.1->gpax==0.0.5) (2.8.2)\n",
            "Requirement already satisfied: kiwisolver>=1.0.1 in /usr/local/lib/python3.8/dist-packages (from matplotlib>=3.1->gpax==0.0.5) (1.4.4)\n",
            "Requirement already satisfied: cycler>=0.10 in /usr/local/lib/python3.8/dist-packages (from matplotlib>=3.1->gpax==0.0.5) (0.11.0)\n",
            "Requirement already satisfied: pyparsing!=2.0.4,!=2.1.2,!=2.1.6,>=2.0.1 in /usr/local/lib/python3.8/dist-packages (from matplotlib>=3.1->gpax==0.0.5) (3.0.9)\n",
            "Requirement already satisfied: multipledispatch in /usr/local/lib/python3.8/dist-packages (from numpyro>=0.8.0->gpax==0.0.5) (0.6.0)\n",
            "Requirement already satisfied: jaxlib>=0.1.65 in /usr/local/lib/python3.8/dist-packages (from numpyro>=0.8.0->gpax==0.0.5) (0.3.25+cuda11.cudnn805)\n",
            "Requirement already satisfied: tqdm in /usr/local/lib/python3.8/dist-packages (from numpyro>=0.8.0->gpax==0.0.5) (4.64.1)\n",
            "Requirement already satisfied: six>=1.5 in /usr/local/lib/python3.8/dist-packages (from python-dateutil>=2.1->matplotlib>=3.1->gpax==0.0.5) (1.15.0)\n",
            "Building wheels for collected packages: gpax\n",
            "  Building wheel for gpax (setup.py) ... \u001b[?25l\u001b[?25hdone\n",
            "  Created wheel for gpax: filename=gpax-0.0.5-py3-none-any.whl size=36299 sha256=c66c22a06dc5395268554c0f18b3173742057063fd1d321f265f3fd5a1a34d5c\n",
            "  Stored in directory: /tmp/pip-ephem-wheel-cache-xjfkt7wk/wheels/dd/3b/45/0b3ff6e68ec6779c69bdfb22da3ff6c18707ff140d9728d57d\n",
            "Successfully built gpax\n",
            "Installing collected packages: jmp, dm-haiku, numpyro, gpax\n",
            "Successfully installed dm-haiku-0.0.9 gpax-0.0.5 jmp-0.0.2 numpyro-0.10.1\n"
          ]
        }
      ]
    },
    {
      "cell_type": "markdown",
      "source": [
        "Imports:"
      ],
      "metadata": {
        "id": "fGoyAWdfMXqj"
      }
    },
    {
      "cell_type": "code",
      "source": [
        "import gpax\n",
        "\n",
        "from copy import deepcopy as dc\n",
        "\n",
        "import numpy as np\n",
        "import jax.numpy as jnp\n",
        "\n",
        "import numpyro\n",
        "import numpyro.distributions as dist\n",
        "import arviz as az\n",
        "\n",
        "import matplotlib.pyplot as plt\n",
        "\n",
        "import warnings\n",
        "\n",
        "gpax.utils.enable_x64()\n",
        "warnings.filterwarnings(\"ignore\", category=UserWarning)"
      ],
      "metadata": {
        "id": "6kp8pBvm0M48"
      },
      "execution_count": null,
      "outputs": []
    },
    {
      "cell_type": "markdown",
      "source": [
        "First, we define possible models that describe a behavior of interest (based on Table 1 in *Gasper et al. Journal of The Electrochemical Society, 2022 169 080518*). Note that in each case we first write them as deterministic functions and then define probabilistic priors over their parameters as separate functions. Here, most of priors are standard normal reflecting the fact that a person who wrote this notebook (MZ) has very little expertise in this domain. feel free to change them."
      ],
      "metadata": {
        "id": "L27EKxgqMZR-"
      }
    },
    {
      "cell_type": "code",
      "execution_count": null,
      "metadata": {
        "id": "Qzj9LQA90BZD"
      },
      "outputs": [],
      "source": [
        "def linear1(x, params):\n",
        "    return 1 - params[\"beta1\"] * x\n",
        "\n",
        "def linear1_prior():\n",
        "    return {\n",
        "    \"beta1\": numpyro.sample(\"beta1\", numpyro.distributions.Normal(0, 1))\n",
        "    }\n",
        "\n",
        "\n",
        "def linear2(x, params):\n",
        "    return params[\"beta0\"] - params[\"beta1\"] * x\n",
        "\n",
        "def linear2_prior():\n",
        "    return {\n",
        "    \"beta0\": numpyro.sample(\"beta0\", numpyro.distributions.Normal(0, 1)),\n",
        "    \"beta1\": numpyro.sample(\"beta1\", numpyro.distributions.Normal(0, 1))\n",
        "    }\n",
        "\n",
        "\n",
        "def square_root(x, params):\n",
        "    return 1 - params[\"beta1\"] * jnp.sqrt(x)\n",
        "\n",
        "def square_root_prior():\n",
        "    return {\n",
        "      \"beta1\": numpyro.sample(\"beta1\", numpyro.distributions.Normal(0, 1))\n",
        "    }\n",
        "\n",
        "\n",
        "def power_law1(x, params):\n",
        "  return 1 - params[\"beta1\"] * jnp.power(x, params[\"beta2\"])\n",
        "\n",
        "def power_law1_prior():\n",
        "  return {\n",
        "    \"beta1\": numpyro.sample(\"beta1\", numpyro.distributions.Normal(0, 1)),\n",
        "    \"beta2\": numpyro.sample(\"beta2\", numpyro.distributions.Normal(0, 1))\n",
        "  }\n",
        "\n",
        "\n",
        "def power_law2(x, params):\n",
        "  return params[\"beta0\"] - params[\"beta1\"] * jnp.power(x, params[\"beta2\"])\n",
        "\n",
        "def power_law2_prior():\n",
        "    return {\n",
        "        \"beta0\": numpyro.sample(\"beta0\", numpyro.distributions.Normal(0, 1)),\n",
        "        \"beta1\": numpyro.sample(\"beta1\", numpyro.distributions.Normal(0, 1)),\n",
        "        \"beta2\": numpyro.sample(\"beta2\", numpyro.distributions.Normal(0, 1))\n",
        "    }\n",
        "\n",
        "\n",
        "def exponential1(x, params):\n",
        "    return params[\"beta0\"] * jnp.exp(params[\"beta1\"] * jnp.power(x, params[\"beta2\"]))\n",
        "\n",
        "def exponential1_prior():\n",
        "    return {\n",
        "        \"beta0\": numpyro.sample(\"beta0\", numpyro.distributions.Normal(0, 1)),\n",
        "        \"beta1\": numpyro.sample(\"beta1\", numpyro.distributions.Normal(0, 1)),\n",
        "        \"beta2\": numpyro.sample(\"beta2\", numpyro.distributions.Normal(0, 1))\n",
        "    }\n",
        "\n",
        "\n",
        "def exponential2(x, params):\n",
        "    return params[\"beta0\"] * jnp.exp(-jnp.power(x / params[\"beta1\"], params[\"beta2\"]))\n",
        "\n",
        "def exponential2_prior():\n",
        "    return {\n",
        "        \"beta0\": numpyro.sample(\"beta0\", numpyro.distributions.Normal(0, 1)),\n",
        "        \"beta1\": numpyro.sample(\"beta1\", numpyro.distributions.Gamma(2, 2)),\n",
        "        \"beta2\": numpyro.sample(\"beta2\", numpyro.distributions.Gamma(2, 2))\n",
        "    }\n",
        "\n",
        "\n",
        "def logarithmic(x, params):\n",
        "    return 1 - params[\"beta1\"] * jnp.log(x)\n",
        "\n",
        "def logarithmic_prior():\n",
        "  return {\n",
        "    \"beta1\": numpyro.sample(\"beta1\", numpyro.distributions.Normal(0, 1))\n",
        "  }\n",
        "\n",
        "\n",
        "def sigmoidal(x, params):\n",
        "    beta1 = params[\"beta1\"]\n",
        "    beta2 = params[\"beta2\"]\n",
        "    beta3 = params[\"beta3\"]\n",
        "    return 1 - 2*beta1 * (0.5 - 1 / (1 + jnp.power(jnp.exp(beta2*x), beta3)))\n",
        "\n",
        "def sigmoidal_prior():\n",
        "    return {\n",
        "        \"beta1\": numpyro.sample(\"beta1\", numpyro.distributions.Normal(0, 1)),\n",
        "        \"beta2\": numpyro.sample(\"beta2\", numpyro.distributions.Normal(0, 1)),\n",
        "        \"beta3\": numpyro.sample(\"beta3\", numpyro.distributions.Normal(0, 1))\n",
        "    }\n",
        "\n",
        "def site_loss(x, params):\n",
        "    return jnp.sqrt(params[\"beta0\"]**2 - 2*params[\"beta1\"]*params[\"beta0\"]*x)\n",
        "\n",
        "def site_loss_prior():\n",
        "    return {\n",
        "        \"beta0\": numpyro.sample(\"beta0\", numpyro.distributions.Normal(0, 1)),\n",
        "        \"beta1\": numpyro.sample(\"beta1\", numpyro.distributions.Normal(0, 1)),\n",
        "    }"
      ]
    },
    {
      "cell_type": "markdown",
      "source": [
        "Now let's generate some synthetic data. In the future, we will substitute it with actual battery simulation data."
      ],
      "metadata": {
        "id": "n7mqelElO6mi"
      }
    },
    {
      "cell_type": "code",
      "source": [
        "X = np.linspace(0.1, 5)\n",
        "y = power_law1(X, {\"beta1\": 0.5, \"beta2\": 2})\n",
        "\n",
        "split = int(0.5 * len(X))\n",
        "X_measured = X[:split]\n",
        "X_unmeasured = X[split:]\n",
        "\n",
        "y_measured = power_law1(X_measured, {\"beta1\": 0.5, \"beta2\": 2}) + 0.1*np.random.normal(size=X_measured.shape)\n",
        "\n",
        "plt.scatter(X_measured, y_measured, label='measured')\n",
        "plt.plot(X, y, c='red', label='ground truth')\n",
        "plt.legend()"
      ],
      "metadata": {
        "colab": {
          "base_uri": "https://localhost:8080/",
          "height": 302
        },
        "id": "tPu-i8SW_nuw",
        "outputId": "8269715f-9de7-44de-9fc2-05d54b484bf7"
      },
      "execution_count": null,
      "outputs": [
        {
          "output_type": "stream",
          "name": "stderr",
          "text": [
            "WARNING:jax._src.lib.xla_bridge:No GPU/TPU found, falling back to CPU. (Set TF_CPP_MIN_LOG_LEVEL=0 and rerun for more info.)\n"
          ]
        },
        {
          "output_type": "execute_result",
          "data": {
            "text/plain": [
              "<matplotlib.legend.Legend at 0x7f61b90069a0>"
            ]
          },
          "metadata": {},
          "execution_count": 4
        },
        {
          "output_type": "display_data",
          "data": {
            "text/plain": [
              "<Figure size 432x288 with 1 Axes>"
            ],
            "image/png": "[encoded data removed]"
          },
          "metadata": {
            "needs_background": "light"
          }
        }
      ]
    },
    {
      "cell_type": "markdown",
      "source": [
        "Now let's run Bayesian inference with each model to determine which one is more likely to explain the data observed so far (```X_measured```)."
      ],
      "metadata": {
        "id": "Q3F_9AcyPWq2"
      }
    },
    {
      "cell_type": "code",
      "source": [
        "model_list = [linear1, linear2, square_root,\n",
        "              power_law1, power_law2,\n",
        "              exponential1, exponential2,\n",
        "              logarithmic, sigmoidal, site_loss]\n",
        "\n",
        "model_prior_list = [linear1_prior, linear2_prior, square_root_prior,\n",
        "                    power_law1_prior, power_law2_prior,\n",
        "                    exponential1_prior, exponential2_prior,\n",
        "                    logarithmic_prior, sigmoidal_prior, site_loss_prior]\n",
        "\n",
        "key1, key2 = gpax.utils.get_keys()\n",
        "\n",
        "mcmc_all = {}\n",
        "for model, model_prior in zip(model_list, model_prior_list):\n",
        "    spm = gpax.sPM(model, model_prior)\n",
        "    spm.fit(key1, X_measured, y_measured)\n",
        "    mcmc_all[str(model)[10:-19]] = dc(spm.mcmc)"
      ],
      "metadata": {
        "colab": {
          "base_uri": "https://localhost:8080/"
        },
        "id": "-AgTkWxn-DjX",
        "outputId": "7ad5f7a1-dae6-45e4-e2c2-34fcefba86ac"
      },
      "execution_count": null,
      "outputs": [
        {
          "output_type": "stream",
          "name": "stderr",
          "text": [
            "sample: 100%|██████████| 4000/4000 [00:18<00:00, 211.21it/s, 3 steps of size 7.72e-01. acc. prob=0.91]\n"
          ]
        },
        {
          "output_type": "stream",
          "name": "stdout",
          "text": [
            "\n",
            "                mean       std    median      5.0%     95.0%     n_eff     r_hat\n",
            "     beta1      0.97      0.05      0.97      0.89      1.06   1514.22      1.00\n",
            "       sig      0.40      0.06      0.39      0.31      0.50   1494.64      1.00\n",
            "\n",
            "Number of divergences: 0\n"
          ]
        },
        {
          "output_type": "stream",
          "name": "stderr",
          "text": [
            "sample: 100%|██████████| 4000/4000 [00:11<00:00, 355.38it/s, 7 steps of size 3.09e-01. acc. prob=0.94] \n"
          ]
        },
        {
          "output_type": "stream",
          "name": "stdout",
          "text": [
            "\n",
            "                mean       std    median      5.0%     95.0%     n_eff     r_hat\n",
            "     beta0      1.57      0.10      1.57      1.39      1.73    710.24      1.00\n",
            "     beta1      1.31      0.07      1.31      1.18      1.41    708.89      1.00\n",
            "       sig      0.26      0.04      0.26      0.20      0.32    751.80      1.00\n",
            "\n",
            "Number of divergences: 0\n"
          ]
        },
        {
          "output_type": "stream",
          "name": "stderr",
          "text": [
            "sample: 100%|██████████| 4000/4000 [00:08<00:00, 491.97it/s, 3 steps of size 8.80e-01. acc. prob=0.89]\n"
          ]
        },
        {
          "output_type": "stream",
          "name": "stdout",
          "text": [
            "\n",
            "                mean       std    median      5.0%     95.0%     n_eff     r_hat\n",
            "     beta1      1.17      0.12      1.18      0.97      1.36   1823.07      1.00\n",
            "       sig      0.68      0.10      0.67      0.52      0.84   1461.36      1.00\n",
            "\n",
            "Number of divergences: 0\n"
          ]
        },
        {
          "output_type": "stream",
          "name": "stderr",
          "text": [
            "sample: 100%|██████████| 4000/4000 [00:08<00:00, 460.13it/s, 7 steps of size 1.99e-01. acc. prob=0.93] \n"
          ]
        },
        {
          "output_type": "stream",
          "name": "stdout",
          "text": [
            "\n",
            "                mean       std    median      5.0%     95.0%     n_eff     r_hat\n",
            "     beta1      0.53      0.03      0.53      0.48      0.58    575.37      1.00\n",
            "     beta2      1.95      0.07      1.95      1.82      2.06    604.93      1.00\n",
            "       sig      0.11      0.02      0.11      0.08      0.14    637.79      1.00\n",
            "\n",
            "Number of divergences: 0\n"
          ]
        },
        {
          "output_type": "stream",
          "name": "stderr",
          "text": [
            "sample: 100%|██████████| 4000/4000 [00:08<00:00, 457.66it/s, 1 steps of size 2.06e-01. acc. prob=0.66]\n"
          ]
        },
        {
          "output_type": "stream",
          "name": "stdout",
          "text": [
            "\n",
            "                mean       std    median      5.0%     95.0%     n_eff     r_hat\n",
            "     beta0     -0.51      1.24     -0.99     -2.16      1.28      3.89      1.49\n",
            "     beta1     -0.49      1.01     -0.80     -1.85      1.11      4.23      1.45\n",
            "     beta2      0.10      0.90     -0.38     -0.63      1.67      3.41      1.56\n",
            "       sig      0.63      0.26      0.70      0.23      0.91      4.10      1.45\n",
            "\n",
            "Number of divergences: 325\n"
          ]
        },
        {
          "output_type": "stream",
          "name": "stderr",
          "text": [
            "sample: 100%|██████████| 4000/4000 [00:09<00:00, 432.92it/s, 7 steps of size 4.32e-01. acc. prob=0.84]\n"
          ]
        },
        {
          "output_type": "stream",
          "name": "stdout",
          "text": [
            "\n",
            "                mean       std    median      5.0%     95.0%     n_eff     r_hat\n",
            "     beta0     -1.18      0.85     -1.30     -2.67     -0.07     83.21      1.01\n",
            "     beta1     -1.58      0.81     -1.65     -2.98     -0.52     56.61      1.01\n",
            "     beta2     -1.28      1.20     -1.55     -2.66      1.30     61.62      1.00\n",
            "       sig      0.82      0.16      0.79      0.59      1.07    137.98      1.00\n",
            "\n",
            "Number of divergences: 98\n"
          ]
        },
        {
          "output_type": "stream",
          "name": "stderr",
          "text": [
            "sample: 100%|██████████| 4000/4000 [00:09<00:00, 427.97it/s, 7 steps of size 4.96e-01. acc. prob=0.87]\n"
          ]
        },
        {
          "output_type": "stream",
          "name": "stdout",
          "text": [
            "\n",
            "                mean       std    median      5.0%     95.0%     n_eff     r_hat\n",
            "     beta0      0.89      0.57      0.93     -0.17      1.71    866.48      1.00\n",
            "     beta1      0.77      0.39      0.72      0.19      1.30   1224.97      1.00\n",
            "     beta2      1.46      0.80      1.35      0.21      2.60    858.08      1.00\n",
            "       sig      0.94      0.16      0.92      0.69      1.17   1274.15      1.00\n",
            "\n",
            "Number of divergences: 0\n"
          ]
        },
        {
          "output_type": "stream",
          "name": "stderr",
          "text": [
            "sample: 100%|██████████| 4000/4000 [00:07<00:00, 512.43it/s, 3 steps of size 9.26e-01. acc. prob=0.87]\n"
          ]
        },
        {
          "output_type": "stream",
          "name": "stdout",
          "text": [
            "\n",
            "                mean       std    median      5.0%     95.0%     n_eff     r_hat\n",
            "     beta1      0.94      0.31      0.94      0.39      1.43   1933.19      1.00\n",
            "       sig      1.30      0.20      1.28      0.97      1.60   1607.13      1.00\n",
            "\n",
            "Number of divergences: 0\n"
          ]
        },
        {
          "output_type": "stream",
          "name": "stderr",
          "text": [
            "sample: 100%|██████████| 4000/4000 [00:09<00:00, 442.64it/s, 31 steps of size 9.93e-02. acc. prob=0.87]\n"
          ]
        },
        {
          "output_type": "stream",
          "name": "stdout",
          "text": [
            "\n",
            "                mean       std    median      5.0%     95.0%     n_eff     r_hat\n",
            "     beta1     -3.07      0.57     -3.00     -3.95     -2.13    405.69      1.00\n",
            "     beta2     -0.96      0.50     -0.84     -1.70     -0.30    470.28      1.00\n",
            "     beta3      0.93      0.45      0.85      0.23      1.53    398.14      1.00\n",
            "       sig      0.50      0.09      0.49      0.38      0.64    551.60      1.00\n",
            "\n",
            "Number of divergences: 2\n"
          ]
        },
        {
          "output_type": "stream",
          "name": "stderr",
          "text": [
            "sample: 100%|██████████| 4000/4000 [00:08<00:00, 461.94it/s, 1 steps of size 7.06e-02. acc. prob=0.59]\n"
          ]
        },
        {
          "output_type": "stream",
          "name": "stdout",
          "text": [
            "\n",
            "                mean       std    median      5.0%     95.0%     n_eff     r_hat\n",
            "     beta0     -0.01      0.06      0.00     -0.15      0.06     12.84      1.00\n",
            "     beta1     -0.08      0.46     -0.02     -0.95      0.54      8.02      1.00\n",
            "       sig      1.04      0.16      0.98      0.85      1.33      6.62      1.18\n",
            "\n",
            "Number of divergences: 1942\n"
          ]
        }
      ]
    },
    {
      "cell_type": "code",
      "source": [
        "mcmc_all"
      ],
      "metadata": {
        "colab": {
          "base_uri": "https://localhost:8080/"
        },
        "id": "g7E3jPwhBIpV",
        "outputId": "ba7b01c0-437b-469d-a6a3-0b1ab726e235"
      },
      "execution_count": null,
      "outputs": [
        {
          "output_type": "execute_result",
          "data": {
            "text/plain": [
              "{'linear1': <numpyro.infer.mcmc.MCMC at 0x7f61b8a638b0>,\n",
              " 'linear2': <numpyro.infer.mcmc.MCMC at 0x7f61b68c1310>,\n",
              " 'square_root': <numpyro.infer.mcmc.MCMC at 0x7f61b5e20070>,\n",
              " 'power_law1': <numpyro.infer.mcmc.MCMC at 0x7f61b68e08e0>,\n",
              " 'power_law2': <numpyro.infer.mcmc.MCMC at 0x7f61b5c212e0>,\n",
              " 'exponential1': <numpyro.infer.mcmc.MCMC at 0x7f61b5914dc0>,\n",
              " 'exponential2': <numpyro.infer.mcmc.MCMC at 0x7f61b575d970>,\n",
              " 'logarithmic': <numpyro.infer.mcmc.MCMC at 0x7f61b5a2b430>,\n",
              " 'sigmoidal': <numpyro.infer.mcmc.MCMC at 0x7f61b5717bb0>,\n",
              " 'site_loss': <numpyro.infer.mcmc.MCMC at 0x7f61b50dfd90>}"
            ]
          },
          "metadata": {},
          "execution_count": 6
        }
      ]
    },
    {
      "cell_type": "code",
      "source": [
        "az.compare(mcmc_all, ic=\"waic\")"
      ],
      "metadata": {
        "colab": {
          "base_uri": "https://localhost:8080/",
          "height": 363
        },
        "id": "M-S0_vDVM5rx",
        "outputId": "1709cb88-3105-4007-e77d-4fd7de70d45c"
      },
      "execution_count": null,
      "outputs": [
        {
          "output_type": "execute_result",
          "data": {
            "text/plain": [
              "              rank       waic     p_waic     d_waic        weight        se  \\\n",
              "power_law1       0  19.355276   2.502742   0.000000  1.000000e+00  4.196094   \n",
              "linear2          1  -2.622241   2.854727  21.977517  0.000000e+00  3.455577   \n",
              "linear1          2 -12.862181   1.693043  32.217457  0.000000e+00  2.807838   \n",
              "sigmoidal        3 -18.403295   2.058143  37.758571  0.000000e+00  3.437434   \n",
              "power_law2       4 -25.212937  13.701148  44.568213  0.000000e+00  3.429065   \n",
              "square_root      5 -26.117143   1.546402  45.472419  0.000000e+00  2.669499   \n",
              "exponential1     6 -30.947063   2.595283  50.302339  0.000000e+00  2.176510   \n",
              "exponential2     7 -34.640299   1.855703  53.995574  0.000000e+00  4.157171   \n",
              "site_loss        8 -37.272344   0.778180  56.627620  0.000000e+00  3.532092   \n",
              "logarithmic      9 -43.360291   2.476827  62.715567  1.696719e-10  3.021322   \n",
              "\n",
              "                   dse  warning waic_scale  \n",
              "power_law1    0.000000     True        log  \n",
              "linear2       4.953671     True        log  \n",
              "linear1       4.301446     True        log  \n",
              "sigmoidal     5.076890     True        log  \n",
              "power_law2    5.567280     True        log  \n",
              "square_root   4.658040     True        log  \n",
              "exponential1  4.156947     True        log  \n",
              "exponential2  6.156771     True        log  \n",
              "site_loss     5.618899    False        log  \n",
              "logarithmic   5.457184     True        log  "
            ],
            "text/html": [
              "\n",
              "  <div id=\"df-37636cb2-b419-4498-b142-57303e05a516\">\n",
              "    <div class=\"colab-df-container\">\n",
              "      <div>\n",
              "<style scoped>\n",
              "    .dataframe tbody tr th:only-of-type {\n",
              "        vertical-align: middle;\n",
              "    }\n",
              "\n",
              "    .dataframe tbody tr th {\n",
              "        vertical-align: top;\n",
              "    }\n",
              "\n",
              "    .dataframe thead th {\n",
              "        text-align: right;\n",
              "    }\n",
              "</style>\n",
              "<table border=\"1\" class=\"dataframe\">\n",
              "  <thead>\n",
              "    <tr style=\"text-align: right;\">\n",
              "      <th></th>\n",
              "      <th>rank</th>\n",
              "      <th>waic</th>\n",
              "      <th>p_waic</th>\n",
              "      <th>d_waic</th>\n",
              "      <th>weight</th>\n",
              "      <th>se</th>\n",
              "      <th>dse</th>\n",
              "      <th>warning</th>\n",
              "      <th>waic_scale</th>\n",
              "    </tr>\n",
              "  </thead>\n",
              "  <tbody>\n",
              "    <tr>\n",
              "      <th>power_law1</th>\n",
              "      <td>0</td>\n",
              "      <td>19.355276</td>\n",
              "      <td>2.502742</td>\n",
              "      <td>0.000000</td>\n",
              "      <td>1.000000e+00</td>\n",
              "      <td>4.196094</td>\n",
              "      <td>0.000000</td>\n",
              "      <td>True</td>\n",
              "      <td>log</td>\n",
              "    </tr>\n",
              "    <tr>\n",
              "      <th>linear2</th>\n",
              "      <td>1</td>\n",
              "      <td>-2.622241</td>\n",
              "      <td>2.854727</td>\n",
              "      <td>21.977517</td>\n",
              "      <td>0.000000e+00</td>\n",
              "      <td>3.455577</td>\n",
              "      <td>4.953671</td>\n",
              "      <td>True</td>\n",
              "      <td>log</td>\n",
              "    </tr>\n",
              "    <tr>\n",
              "      <th>linear1</th>\n",
              "      <td>2</td>\n",
              "      <td>-12.862181</td>\n",
              "      <td>1.693043</td>\n",
              "      <td>32.217457</td>\n",
              "      <td>0.000000e+00</td>\n",
              "      <td>2.807838</td>\n",
              "      <td>4.301446</td>\n",
              "      <td>True</td>\n",
              "      <td>log</td>\n",
              "    </tr>\n",
              "    <tr>\n",
              "      <th>sigmoidal</th>\n",
              "      <td>3</td>\n",
              "      <td>-18.403295</td>\n",
              "      <td>2.058143</td>\n",
              "      <td>37.758571</td>\n",
              "      <td>0.000000e+00</td>\n",
              "      <td>3.437434</td>\n",
              "      <td>5.076890</td>\n",
              "      <td>True</td>\n",
              "      <td>log</td>\n",
              "    </tr>\n",
              "    <tr>\n",
              "      <th>power_law2</th>\n",
              "      <td>4</td>\n",
              "      <td>-25.212937</td>\n",
              "      <td>13.701148</td>\n",
              "      <td>44.568213</td>\n",
              "      <td>0.000000e+00</td>\n",
              "      <td>3.429065</td>\n",
              "      <td>5.567280</td>\n",
              "      <td>True</td>\n",
              "      <td>log</td>\n",
              "    </tr>\n",
              "    <tr>\n",
              "      <th>square_root</th>\n",
              "      <td>5</td>\n",
              "      <td>-26.117143</td>\n",
              "      <td>1.546402</td>\n",
              "      <td>45.472419</td>\n",
              "      <td>0.000000e+00</td>\n",
              "      <td>2.669499</td>\n",
              "      <td>4.658040</td>\n",
              "      <td>True</td>\n",
              "      <td>log</td>\n",
              "    </tr>\n",
              "    <tr>\n",
              "      <th>exponential1</th>\n",
              "      <td>6</td>\n",
              "      <td>-30.947063</td>\n",
              "      <td>2.595283</td>\n",
              "      <td>50.302339</td>\n",
              "      <td>0.000000e+00</td>\n",
              "      <td>2.176510</td>\n",
              "      <td>4.156947</td>\n",
              "      <td>True</td>\n",
              "      <td>log</td>\n",
              "    </tr>\n",
              "    <tr>\n",
              "      <th>exponential2</th>\n",
              "      <td>7</td>\n",
              "      <td>-34.640299</td>\n",
              "      <td>1.855703</td>\n",
              "      <td>53.995574</td>\n",
              "      <td>0.000000e+00</td>\n",
              "      <td>4.157171</td>\n",
              "      <td>6.156771</td>\n",
              "      <td>True</td>\n",
              "      <td>log</td>\n",
              "    </tr>\n",
              "    <tr>\n",
              "      <th>site_loss</th>\n",
              "      <td>8</td>\n",
              "      <td>-37.272344</td>\n",
              "      <td>0.778180</td>\n",
              "      <td>56.627620</td>\n",
              "      <td>0.000000e+00</td>\n",
              "      <td>3.532092</td>\n",
              "      <td>5.618899</td>\n",
              "      <td>False</td>\n",
              "      <td>log</td>\n",
              "    </tr>\n",
              "    <tr>\n",
              "      <th>logarithmic</th>\n",
              "      <td>9</td>\n",
              "      <td>-43.360291</td>\n",
              "      <td>2.476827</td>\n",
              "      <td>62.715567</td>\n",
              "      <td>1.696719e-10</td>\n",
              "      <td>3.021322</td>\n",
              "      <td>5.457184</td>\n",
              "      <td>True</td>\n",
              "      <td>log</td>\n",
              "    </tr>\n",
              "  </tbody>\n",
              "</table>\n",
              "</div>\n",
              "      <button class=\"colab-df-convert\" onclick=\"convertToInteractive('df-37636cb2-b419-4498-b142-57303e05a516')\"\n",
              "              title=\"Convert this dataframe to an interactive table.\"\n",
              "              style=\"display:none;\">\n",
              "        \n",
              "  <svg xmlns=\"http://www.w3.org/2000/svg\" height=\"24px\"viewBox=\"0 0 24 24\"\n",
              "       width=\"24px\">\n",
              "    <path d=\"M0 0h24v24H0V0z\" fill=\"none\"/>\n",
              "    <path d=\"M18.56 5.44l.94 2.06.94-2.06 2.06-.94-2.06-.94-.94-2.06-.94 2.06-2.06.94zm-11 1L8.5 8.5l.94-2.06 2.06-.94-2.06-.94L8.5 2.5l-.94 2.06-2.06.94zm10 10l.94 2.06.94-2.06 2.06-.94-2.06-.94-.94-2.06-.94 2.06-2.06.94z\"/><path d=\"M17.41 7.96l-1.37-1.37c-.4-.4-.92-.59-1.43-.59-.52 0-1.04.2-1.43.59L10.3 9.45l-7.72 7.72c-.78.78-.78 2.05 0 2.83L4 21.41c.39.39.9.59 1.41.59.51 0 1.02-.2 1.41-.59l7.78-7.78 2.81-2.81c.8-.78.8-2.07 0-2.86zM5.41 20L4 18.59l7.72-7.72 1.47 1.35L5.41 20z\"/>\n",
              "  </svg>\n",
              "      </button>\n",
              "      \n",
              "  <style>\n",
              "    .colab-df-container {\n",
              "      display:flex;\n",
              "      flex-wrap:wrap;\n",
              "      gap: 12px;\n",
              "    }\n",
              "\n",
              "    .colab-df-convert {\n",
              "      background-color: #E8F0FE;\n",
              "      border: none;\n",
              "      border-radius: 50%;\n",
              "      cursor: pointer;\n",
              "      display: none;\n",
              "      fill: #1967D2;\n",
              "      height: 32px;\n",
              "      padding: 0 0 0 0;\n",
              "      width: 32px;\n",
              "    }\n",
              "\n",
              "    .colab-df-convert:hover {\n",
              "      background-color: #E2EBFA;\n",
              "      box-shadow: 0px 1px 2px rgba(60, 64, 67, 0.3), 0px 1px 3px 1px rgba(60, 64, 67, 0.15);\n",
              "      fill: #174EA6;\n",
              "    }\n",
              "\n",
              "    [theme=dark] .colab-df-convert {\n",
              "      background-color: #3B4455;\n",
              "      fill: #D2E3FC;\n",
              "    }\n",
              "\n",
              "    [theme=dark] .colab-df-convert:hover {\n",
              "      background-color: #434B5C;\n",
              "      box-shadow: 0px 1px 3px 1px rgba(0, 0, 0, 0.15);\n",
              "      filter: drop-shadow(0px 1px 2px rgba(0, 0, 0, 0.3));\n",
              "      fill: #FFFFFF;\n",
              "    }\n",
              "  </style>\n",
              "\n",
              "      <script>\n",
              "        const buttonEl =\n",
              "          document.querySelector('#df-37636cb2-b419-4498-b142-57303e05a516 button.colab-df-convert');\n",
              "        buttonEl.style.display =\n",
              "          google.colab.kernel.accessAllowed ? 'block' : 'none';\n",
              "\n",
              "        async function convertToInteractive(key) {\n",
              "          const element = document.querySelector('#df-37636cb2-b419-4498-b142-57303e05a516');\n",
              "          const dataTable =\n",
              "            await google.colab.kernel.invokeFunction('convertToInteractive',\n",
              "                                                     [key], {});\n",
              "          if (!dataTable) return;\n",
              "\n",
              "          const docLinkHtml = 'Like what you see? Visit the ' +\n",
              "            '<a target=\"_blank\" href=https://colab.research.google.com/notebooks/data_table.ipynb>data table notebook</a>'\n",
              "            + ' to learn more about interactive tables.';\n",
              "          element.innerHTML = '';\n",
              "          dataTable['output_type'] = 'display_data';\n",
              "          await google.colab.output.renderOutput(dataTable, element);\n",
              "          const docLink = document.createElement('div');\n",
              "          docLink.innerHTML = docLinkHtml;\n",
              "          element.appendChild(docLink);\n",
              "        }\n",
              "      </script>\n",
              "    </div>\n",
              "  </div>\n",
              "  "
            ]
          },
          "metadata": {},
          "execution_count": 7
        }
      ]
    },
    {
      "cell_type": "markdown",
      "source": [
        "Make a prediction with the best model:"
      ],
      "metadata": {
        "id": "Ap3vVPIzRntV"
      }
    },
    {
      "cell_type": "code",
      "source": [
        "spm = gpax.sPM(power_law1, power_law1_prior)\n",
        "spm.fit(key1, X_measured, y_measured)\n",
        "mean, samples = spm.predict(key2, X_unmeasured)"
      ],
      "metadata": {
        "colab": {
          "base_uri": "https://localhost:8080/"
        },
        "id": "XLBuZ35iR_W-",
        "outputId": "ae643f22-c8f7-446f-e389-503ff48b53af"
      },
      "execution_count": null,
      "outputs": [
        {
          "output_type": "stream",
          "name": "stderr",
          "text": [
            "sample: 100%|██████████| 4000/4000 [00:08<00:00, 462.83it/s, 7 steps of size 1.99e-01. acc. prob=0.93] \n"
          ]
        },
        {
          "output_type": "stream",
          "name": "stdout",
          "text": [
            "\n",
            "                mean       std    median      5.0%     95.0%     n_eff     r_hat\n",
            "     beta1      0.53      0.03      0.53      0.48      0.58    575.37      1.00\n",
            "     beta2      1.95      0.07      1.95      1.82      2.06    604.93      1.00\n",
            "       sig      0.11      0.02      0.11      0.08      0.14    637.79      1.00\n",
            "\n",
            "Number of divergences: 0\n"
          ]
        }
      ]
    },
    {
      "cell_type": "markdown",
      "source": [
        "Plot results. Note that the dispersion in sampled predictions is effectively a predictive uncertainty"
      ],
      "metadata": {
        "id": "_tkYjTOVR50e"
      }
    },
    {
      "cell_type": "code",
      "source": [
        "_, ax = plt.subplots(dpi=100)\n",
        "ax.set_xlabel(\"$x$\")\n",
        "ax.set_ylabel(\"$y$\")\n",
        "ax.scatter(X_measured, y_measured, marker='x', c='k', zorder=1, label=\"Noisy observations\", alpha=0.7)\n",
        "ax.plot(X, y, c='black', zorder=0, label=\"Ground truth\")\n",
        "for y1 in samples:\n",
        "    ax.plot(X_unmeasured, y1, lw=.1, zorder=0, c='r', alpha=.1)\n",
        "l, = ax.plot(X_unmeasured, samples[0], lw=1, c='r', alpha=1, label=\"Sampled predictions\")\n",
        "ax.plot(X_unmeasured, mean, lw=1.5, zorder=1, c='b', label='Predictive mean')\n",
        "ax.legend(loc='best')\n",
        "l.set_alpha(0)"
      ],
      "metadata": {
        "colab": {
          "base_uri": "https://localhost:8080/",
          "height": 387
        },
        "id": "MARwBvv7SyKW",
        "outputId": "6ff7aecb-00a1-430d-c390-d4c00d4ce85b"
      },
      "execution_count": null,
      "outputs": [
        {
          "output_type": "display_data",
          "data": {
            "text/plain": [
              "<Figure size 600x400 with 1 Axes>"
            ],
            "image/png": "[encoded data removed]"
          },
          "metadata": {
            "needs_background": "light"
          }
        }
      ]
    },
    {
      "cell_type": "markdown",
      "source": [
        "Now let's assume that a physical mechanism defining the behavior of interest changes over time"
      ],
      "metadata": {
        "id": "rDCUEEi3T3Ft"
      }
    },
    {
      "cell_type": "code",
      "source": [
        "X = np.linspace(0.1, 5, 100)\n",
        "\n",
        "split = int(0.5 * len(X))\n",
        "X1 = X[:split]\n",
        "X2 = X[split:]\n",
        "y1 = power_law1(X1, {\"beta1\": 0.5, \"beta2\": 2})\n",
        "y2 = exponential1(X2, {\"beta0\": -.5, \"beta1\": 0.6, \"beta2\": 1.1})\n",
        "y = np.concatenate((y1, y2), axis=0)\n",
        "\n",
        "X_measured = X[:split+20]\n",
        "X_unmeasured = X[split+20:]\n",
        "y_measured = y[:len(X_measured)] + 0.1*np.random.normal(size=X_measured.shape)\n",
        "y_unmeasured = y[len(X_measured):]\n",
        "\n",
        "plt.scatter(X_measured, y_measured, label='Measured')\n",
        "plt.plot(X, y, c='red', label='Ground truth')\n",
        "plt.legend()"
      ],
      "metadata": {
        "colab": {
          "base_uri": "https://localhost:8080/",
          "height": 283
        },
        "id": "NFv0zvwRVzCB",
        "outputId": "58c1bbfa-fe52-48e7-f1f4-17881eac34db"
      },
      "execution_count": null,
      "outputs": [
        {
          "output_type": "execute_result",
          "data": {
            "text/plain": [
              "<matplotlib.legend.Legend at 0x7f61b363b820>"
            ]
          },
          "metadata": {},
          "execution_count": 10
        },
        {
          "output_type": "display_data",
          "data": {
            "text/plain": [
              "<Figure size 432x288 with 1 Axes>"
            ],
            "image/png": "[encoded data removed]"
          },
          "metadata": {
            "needs_background": "light"
          }
        }
      ]
    },
    {
      "cell_type": "markdown",
      "source": [
        "Run Bayesian inference with each model, same as before:"
      ],
      "metadata": {
        "id": "w-OVjopBVXUh"
      }
    },
    {
      "cell_type": "code",
      "source": [
        "model_list = [linear1, linear2, square_root,\n",
        "              power_law1, power_law2,\n",
        "              exponential1, exponential2,\n",
        "              logarithmic, sigmoidal, site_loss]\n",
        "\n",
        "model_prior_list = [linear1_prior, linear2_prior, square_root_prior,\n",
        "                    power_law1_prior, power_law2_prior,\n",
        "                    exponential1_prior, exponential2_prior,\n",
        "                    logarithmic_prior, sigmoidal_prior, site_loss_prior]\n",
        "\n",
        "key1, key2 = gpax.utils.get_keys()\n",
        "\n",
        "mcmc_all = {}\n",
        "for model, model_prior in zip(model_list, model_prior_list):\n",
        "    spm = gpax.sPM(model, model_prior)\n",
        "    spm.fit(key1, X_measured, y_measured)\n",
        "    mcmc_all[str(model)[10:-19]] = dc(spm.mcmc)"
      ],
      "metadata": {
        "colab": {
          "base_uri": "https://localhost:8080/"
        },
        "id": "cUfjSOpeXIA6",
        "outputId": "479bfa9e-2fe0-4d99-9265-291b37202262"
      },
      "execution_count": null,
      "outputs": [
        {
          "output_type": "stream",
          "name": "stderr",
          "text": [
            "sample: 100%|██████████| 4000/4000 [00:08<00:00, 493.27it/s, 3 steps of size 1.01e+00. acc. prob=0.86]\n"
          ]
        },
        {
          "output_type": "stream",
          "name": "stdout",
          "text": [
            "\n",
            "                mean       std    median      5.0%     95.0%     n_eff     r_hat\n",
            "     beta1      1.38      0.05      1.38      1.30      1.46   2019.74      1.00\n",
            "       sig      0.80      0.07      0.79      0.67      0.90   1964.45      1.00\n",
            "\n",
            "Number of divergences: 0\n"
          ]
        },
        {
          "output_type": "stream",
          "name": "stderr",
          "text": [
            "sample: 100%|██████████| 4000/4000 [00:09<00:00, 433.51it/s, 7 steps of size 3.60e-01. acc. prob=0.94]\n"
          ]
        },
        {
          "output_type": "stream",
          "name": "stdout",
          "text": [
            "\n",
            "                mean       std    median      5.0%     95.0%     n_eff     r_hat\n",
            "     beta0      2.16      0.13      2.17      1.94      2.35    746.68      1.00\n",
            "     beta1      1.88      0.06      1.88      1.78      1.98    807.21      1.00\n",
            "       sig      0.53      0.05      0.52      0.46      0.60   1016.33      1.00\n",
            "\n",
            "Number of divergences: 0\n"
          ]
        },
        {
          "output_type": "stream",
          "name": "stderr",
          "text": [
            "sample: 100%|██████████| 4000/4000 [00:08<00:00, 486.47it/s, 3 steps of size 9.21e-01. acc. prob=0.89]\n"
          ]
        },
        {
          "output_type": "stream",
          "name": "stdout",
          "text": [
            "\n",
            "                mean       std    median      5.0%     95.0%     n_eff     r_hat\n",
            "     beta1      1.95      0.12      1.96      1.75      2.14   1988.79      1.00\n",
            "       sig      1.32      0.11      1.31      1.14      1.50   1919.06      1.00\n",
            "\n",
            "Number of divergences: 0\n"
          ]
        },
        {
          "output_type": "stream",
          "name": "stderr",
          "text": [
            "sample: 100%|██████████| 4000/4000 [00:09<00:00, 417.93it/s, 31 steps of size 1.50e-01. acc. prob=0.92]\n"
          ]
        },
        {
          "output_type": "stream",
          "name": "stdout",
          "text": [
            "\n",
            "                mean       std    median      5.0%     95.0%     n_eff     r_hat\n",
            "     beta1      0.50      0.01      0.50      0.47      0.52    587.48      1.00\n",
            "     beta2      2.05      0.03      2.05      2.01      2.09    577.13      1.00\n",
            "       sig      0.14      0.01      0.14      0.12      0.16    784.43      1.00\n",
            "\n",
            "Number of divergences: 0\n"
          ]
        },
        {
          "output_type": "stream",
          "name": "stderr",
          "text": [
            "sample: 100%|██████████| 4000/4000 [00:10<00:00, 384.18it/s, 31 steps of size 7.44e-02. acc. prob=0.95]\n"
          ]
        },
        {
          "output_type": "stream",
          "name": "stdout",
          "text": [
            "\n",
            "                mean       std    median      5.0%     95.0%     n_eff     r_hat\n",
            "     beta0      1.00      0.04      1.00      0.94      1.06    623.32      1.00\n",
            "     beta1      0.50      0.03      0.50      0.45      0.54    547.88      1.00\n",
            "     beta2      2.05      0.04      2.05      1.98      2.12    547.13      1.00\n",
            "       sig      0.14      0.01      0.14      0.12      0.16    852.72      1.00\n",
            "\n",
            "Number of divergences: 0\n"
          ]
        },
        {
          "output_type": "stream",
          "name": "stderr",
          "text": [
            "sample: 100%|██████████| 4000/4000 [00:13<00:00, 297.85it/s, 63 steps of size 1.96e-02. acc. prob=0.92] \n"
          ]
        },
        {
          "output_type": "stream",
          "name": "stdout",
          "text": [
            "\n",
            "                mean       std    median      5.0%     95.0%     n_eff     r_hat\n",
            "     beta0     -0.03      0.02     -0.03     -0.06     -0.01    192.24      1.01\n",
            "     beta1      2.26      0.52      2.24      1.43      3.13    160.08      1.00\n",
            "     beta2      0.71      0.11      0.70      0.53      0.87    211.94      1.01\n",
            "       sig      0.63      0.06      0.62      0.53      0.72    407.68      1.00\n",
            "\n",
            "Number of divergences: 19\n"
          ]
        },
        {
          "output_type": "stream",
          "name": "stderr",
          "text": [
            "sample: 100%|██████████| 4000/4000 [00:09<00:00, 407.67it/s, 7 steps of size 4.85e-01. acc. prob=0.92]\n"
          ]
        },
        {
          "output_type": "stream",
          "name": "stdout",
          "text": [
            "\n",
            "                mean       std    median      5.0%     95.0%     n_eff     r_hat\n",
            "     beta0     -1.80      0.82     -1.90     -3.07     -0.59    532.00      1.00\n",
            "     beta1      1.32      0.88      1.14      0.16      2.45   1021.94      1.00\n",
            "     beta2      0.20      0.35      0.10      0.00      0.40    389.91      1.00\n",
            "       sig      2.12      0.21      2.11      1.76      2.42   1254.66      1.00\n",
            "\n",
            "Number of divergences: 0\n"
          ]
        },
        {
          "output_type": "stream",
          "name": "stderr",
          "text": [
            "sample: 100%|██████████| 4000/4000 [00:08<00:00, 493.04it/s, 3 steps of size 1.01e+00. acc. prob=0.86]\n"
          ]
        },
        {
          "output_type": "stream",
          "name": "stdout",
          "text": [
            "\n",
            "                mean       std    median      5.0%     95.0%     n_eff     r_hat\n",
            "     beta1      2.47      0.25      2.48      2.06      2.87   2040.11      1.00\n",
            "       sig      1.86      0.16      1.85      1.58      2.10   1899.23      1.00\n",
            "\n",
            "Number of divergences: 0\n"
          ]
        },
        {
          "output_type": "stream",
          "name": "stderr",
          "text": [
            "sample: 100%|██████████| 4000/4000 [00:11<00:00, 351.02it/s, 63 steps of size 5.47e-02. acc. prob=0.90]\n"
          ]
        },
        {
          "output_type": "stream",
          "name": "stdout",
          "text": [
            "\n",
            "                mean       std    median      5.0%     95.0%     n_eff     r_hat\n",
            "     beta1     -5.40      0.58     -5.36     -6.34     -4.45    513.80      1.00\n",
            "     beta2     -0.87      0.51     -0.73     -1.57     -0.22    234.68      1.00\n",
            "     beta3      0.88      0.49      0.78      0.18      1.59    340.38      1.00\n",
            "       sig      1.02      0.11      1.01      0.85      1.18    648.08      1.00\n",
            "\n",
            "Number of divergences: 6\n"
          ]
        },
        {
          "output_type": "stream",
          "name": "stderr",
          "text": [
            "sample: 100%|██████████| 4000/4000 [00:08<00:00, 447.52it/s, 1 steps of size 9.40e-02. acc. prob=0.61] \n"
          ]
        },
        {
          "output_type": "stream",
          "name": "stdout",
          "text": [
            "\n",
            "                mean       std    median      5.0%     95.0%     n_eff     r_hat\n",
            "     beta0     -0.04      0.14     -0.01     -0.25      0.22     29.87      1.01\n",
            "     beta1      0.00      0.03     -0.00     -0.03      0.06     20.98      1.07\n",
            "       sig      2.36      0.24      2.39      1.95      2.73     12.10      1.11\n",
            "\n",
            "Number of divergences: 1933\n"
          ]
        }
      ]
    },
    {
      "cell_type": "markdown",
      "source": [
        "Compare models:"
      ],
      "metadata": {
        "id": "2gUcuvTJVdWs"
      }
    },
    {
      "cell_type": "code",
      "source": [
        "az.compare(mcmc_all, ic=\"waic\")"
      ],
      "metadata": {
        "colab": {
          "base_uri": "https://localhost:8080/",
          "height": 363
        },
        "id": "ZIAMakugYdhF",
        "outputId": "10967ccf-3c76-407f-9126-520ea62c0671"
      },
      "execution_count": null,
      "outputs": [
        {
          "output_type": "execute_result",
          "data": {
            "text/plain": [
              "              rank        waic    p_waic      d_waic        weight        se  \\\n",
              "power_law1       0   39.614272  2.887605    0.000000  1.000000e+00  6.671349   \n",
              "power_law2       1   38.592137  3.712764    1.022135  4.735830e-09  6.593135   \n",
              "linear2          2  -55.579546  2.674483   95.193819  1.067191e-09  4.186649   \n",
              "exponential1     3  -66.363531  1.463345  105.977803  8.551226e-10  4.214172   \n",
              "linear1          4  -83.964717  1.596326  123.578989  5.947335e-10  3.427523   \n",
              "sigmoidal        5 -100.892477  1.924657  140.506750  4.163979e-10  4.806986   \n",
              "square_root      6 -119.541632  1.538215  159.155905  2.265818e-10  3.861130   \n",
              "logarithmic      7 -145.367757  4.347282  184.982029  9.641657e-11  8.008715   \n",
              "exponential2     8 -152.802208  1.577811  192.416480  2.732251e-11  5.529686   \n",
              "site_loss        9 -161.258482  1.921580  200.872754  0.000000e+00  6.539924   \n",
              "\n",
              "                   dse  warning waic_scale  \n",
              "power_law1    0.000000     True        log  \n",
              "power_law2    0.232969     True        log  \n",
              "linear2       7.855850     True        log  \n",
              "exponential1  7.428130    False        log  \n",
              "linear1       7.886465    False        log  \n",
              "sigmoidal     8.493998    False        log  \n",
              "square_root   8.056692    False        log  \n",
              "logarithmic   9.995409     True        log  \n",
              "exponential2  8.465048    False        log  \n",
              "site_loss     8.917330    False        log  "
            ],
            "text/html": [
              "\n",
              "  <div id=\"df-466f0699-cda9-4ed6-b77a-5b8047e0b31e\">\n",
              "    <div class=\"colab-df-container\">\n",
              "      <div>\n",
              "<style scoped>\n",
              "    .dataframe tbody tr th:only-of-type {\n",
              "        vertical-align: middle;\n",
              "    }\n",
              "\n",
              "    .dataframe tbody tr th {\n",
              "        vertical-align: top;\n",
              "    }\n",
              "\n",
              "    .dataframe thead th {\n",
              "        text-align: right;\n",
              "    }\n",
              "</style>\n",
              "<table border=\"1\" class=\"dataframe\">\n",
              "  <thead>\n",
              "    <tr style=\"text-align: right;\">\n",
              "      <th></th>\n",
              "      <th>rank</th>\n",
              "      <th>waic</th>\n",
              "      <th>p_waic</th>\n",
              "      <th>d_waic</th>\n",
              "      <th>weight</th>\n",
              "      <th>se</th>\n",
              "      <th>dse</th>\n",
              "      <th>warning</th>\n",
              "      <th>waic_scale</th>\n",
              "    </tr>\n",
              "  </thead>\n",
              "  <tbody>\n",
              "    <tr>\n",
              "      <th>power_law1</th>\n",
              "      <td>0</td>\n",
              "      <td>39.614272</td>\n",
              "      <td>2.887605</td>\n",
              "      <td>0.000000</td>\n",
              "      <td>1.000000e+00</td>\n",
              "      <td>6.671349</td>\n",
              "      <td>0.000000</td>\n",
              "      <td>True</td>\n",
              "      <td>log</td>\n",
              "    </tr>\n",
              "    <tr>\n",
              "      <th>power_law2</th>\n",
              "      <td>1</td>\n",
              "      <td>38.592137</td>\n",
              "      <td>3.712764</td>\n",
              "      <td>1.022135</td>\n",
              "      <td>4.735830e-09</td>\n",
              "      <td>6.593135</td>\n",
              "      <td>0.232969</td>\n",
              "      <td>True</td>\n",
              "      <td>log</td>\n",
              "    </tr>\n",
              "    <tr>\n",
              "      <th>linear2</th>\n",
              "      <td>2</td>\n",
              "      <td>-55.579546</td>\n",
              "      <td>2.674483</td>\n",
              "      <td>95.193819</td>\n",
              "      <td>1.067191e-09</td>\n",
              "      <td>4.186649</td>\n",
              "      <td>7.855850</td>\n",
              "      <td>True</td>\n",
              "      <td>log</td>\n",
              "    </tr>\n",
              "    <tr>\n",
              "      <th>exponential1</th>\n",
              "      <td>3</td>\n",
              "      <td>-66.363531</td>\n",
              "      <td>1.463345</td>\n",
              "      <td>105.977803</td>\n",
              "      <td>8.551226e-10</td>\n",
              "      <td>4.214172</td>\n",
              "      <td>7.428130</td>\n",
              "      <td>False</td>\n",
              "      <td>log</td>\n",
              "    </tr>\n",
              "    <tr>\n",
              "      <th>linear1</th>\n",
              "      <td>4</td>\n",
              "      <td>-83.964717</td>\n",
              "      <td>1.596326</td>\n",
              "      <td>123.578989</td>\n",
              "      <td>5.947335e-10</td>\n",
              "      <td>3.427523</td>\n",
              "      <td>7.886465</td>\n",
              "      <td>False</td>\n",
              "      <td>log</td>\n",
              "    </tr>\n",
              "    <tr>\n",
              "      <th>sigmoidal</th>\n",
              "      <td>5</td>\n",
              "      <td>-100.892477</td>\n",
              "      <td>1.924657</td>\n",
              "      <td>140.506750</td>\n",
              "      <td>4.163979e-10</td>\n",
              "      <td>4.806986</td>\n",
              "      <td>8.493998</td>\n",
              "      <td>False</td>\n",
              "      <td>log</td>\n",
              "    </tr>\n",
              "    <tr>\n",
              "      <th>square_root</th>\n",
              "      <td>6</td>\n",
              "      <td>-119.541632</td>\n",
              "      <td>1.538215</td>\n",
              "      <td>159.155905</td>\n",
              "      <td>2.265818e-10</td>\n",
              "      <td>3.861130</td>\n",
              "      <td>8.056692</td>\n",
              "      <td>False</td>\n",
              "      <td>log</td>\n",
              "    </tr>\n",
              "    <tr>\n",
              "      <th>logarithmic</th>\n",
              "      <td>7</td>\n",
              "      <td>-145.367757</td>\n",
              "      <td>4.347282</td>\n",
              "      <td>184.982029</td>\n",
              "      <td>9.641657e-11</td>\n",
              "      <td>8.008715</td>\n",
              "      <td>9.995409</td>\n",
              "      <td>True</td>\n",
              "      <td>log</td>\n",
              "    </tr>\n",
              "    <tr>\n",
              "      <th>exponential2</th>\n",
              "      <td>8</td>\n",
              "      <td>-152.802208</td>\n",
              "      <td>1.577811</td>\n",
              "      <td>192.416480</td>\n",
              "      <td>2.732251e-11</td>\n",
              "      <td>5.529686</td>\n",
              "      <td>8.465048</td>\n",
              "      <td>False</td>\n",
              "      <td>log</td>\n",
              "    </tr>\n",
              "    <tr>\n",
              "      <th>site_loss</th>\n",
              "      <td>9</td>\n",
              "      <td>-161.258482</td>\n",
              "      <td>1.921580</td>\n",
              "      <td>200.872754</td>\n",
              "      <td>0.000000e+00</td>\n",
              "      <td>6.539924</td>\n",
              "      <td>8.917330</td>\n",
              "      <td>False</td>\n",
              "      <td>log</td>\n",
              "    </tr>\n",
              "  </tbody>\n",
              "</table>\n",
              "</div>\n",
              "      <button class=\"colab-df-convert\" onclick=\"convertToInteractive('df-466f0699-cda9-4ed6-b77a-5b8047e0b31e')\"\n",
              "              title=\"Convert this dataframe to an interactive table.\"\n",
              "              style=\"display:none;\">\n",
              "        \n",
              "  <svg xmlns=\"http://www.w3.org/2000/svg\" height=\"24px\"viewBox=\"0 0 24 24\"\n",
              "       width=\"24px\">\n",
              "    <path d=\"M0 0h24v24H0V0z\" fill=\"none\"/>\n",
              "    <path d=\"M18.56 5.44l.94 2.06.94-2.06 2.06-.94-2.06-.94-.94-2.06-.94 2.06-2.06.94zm-11 1L8.5 8.5l.94-2.06 2.06-.94-2.06-.94L8.5 2.5l-.94 2.06-2.06.94zm10 10l.94 2.06.94-2.06 2.06-.94-2.06-.94-.94-2.06-.94 2.06-2.06.94z\"/><path d=\"M17.41 7.96l-1.37-1.37c-.4-.4-.92-.59-1.43-.59-.52 0-1.04.2-1.43.59L10.3 9.45l-7.72 7.72c-.78.78-.78 2.05 0 2.83L4 21.41c.39.39.9.59 1.41.59.51 0 1.02-.2 1.41-.59l7.78-7.78 2.81-2.81c.8-.78.8-2.07 0-2.86zM5.41 20L4 18.59l7.72-7.72 1.47 1.35L5.41 20z\"/>\n",
              "  </svg>\n",
              "      </button>\n",
              "      \n",
              "  <style>\n",
              "    .colab-df-container {\n",
              "      display:flex;\n",
              "      flex-wrap:wrap;\n",
              "      gap: 12px;\n",
              "    }\n",
              "\n",
              "    .colab-df-convert {\n",
              "      background-color: #E8F0FE;\n",
              "      border: none;\n",
              "      border-radius: 50%;\n",
              "      cursor: pointer;\n",
              "      display: none;\n",
              "      fill: #1967D2;\n",
              "      height: 32px;\n",
              "      padding: 0 0 0 0;\n",
              "      width: 32px;\n",
              "    }\n",
              "\n",
              "    .colab-df-convert:hover {\n",
              "      background-color: #E2EBFA;\n",
              "      box-shadow: 0px 1px 2px rgba(60, 64, 67, 0.3), 0px 1px 3px 1px rgba(60, 64, 67, 0.15);\n",
              "      fill: #174EA6;\n",
              "    }\n",
              "\n",
              "    [theme=dark] .colab-df-convert {\n",
              "      background-color: #3B4455;\n",
              "      fill: #D2E3FC;\n",
              "    }\n",
              "\n",
              "    [theme=dark] .colab-df-convert:hover {\n",
              "      background-color: #434B5C;\n",
              "      box-shadow: 0px 1px 3px 1px rgba(0, 0, 0, 0.15);\n",
              "      filter: drop-shadow(0px 1px 2px rgba(0, 0, 0, 0.3));\n",
              "      fill: #FFFFFF;\n",
              "    }\n",
              "  </style>\n",
              "\n",
              "      <script>\n",
              "        const buttonEl =\n",
              "          document.querySelector('#df-466f0699-cda9-4ed6-b77a-5b8047e0b31e button.colab-df-convert');\n",
              "        buttonEl.style.display =\n",
              "          google.colab.kernel.accessAllowed ? 'block' : 'none';\n",
              "\n",
              "        async function convertToInteractive(key) {\n",
              "          const element = document.querySelector('#df-466f0699-cda9-4ed6-b77a-5b8047e0b31e');\n",
              "          const dataTable =\n",
              "            await google.colab.kernel.invokeFunction('convertToInteractive',\n",
              "                                                     [key], {});\n",
              "          if (!dataTable) return;\n",
              "\n",
              "          const docLinkHtml = 'Like what you see? Visit the ' +\n",
              "            '<a target=\"_blank\" href=https://colab.research.google.com/notebooks/data_table.ipynb>data table notebook</a>'\n",
              "            + ' to learn more about interactive tables.';\n",
              "          element.innerHTML = '';\n",
              "          dataTable['output_type'] = 'display_data';\n",
              "          await google.colab.output.renderOutput(dataTable, element);\n",
              "          const docLink = document.createElement('div');\n",
              "          docLink.innerHTML = docLinkHtml;\n",
              "          element.appendChild(docLink);\n",
              "        }\n",
              "      </script>\n",
              "    </div>\n",
              "  </div>\n",
              "  "
            ]
          },
          "metadata": {},
          "execution_count": 12
        }
      ]
    },
    {
      "cell_type": "markdown",
      "source": [
        "Make a prediction using the \"best\" mdoel:"
      ],
      "metadata": {
        "id": "seU1yQgYV9BR"
      }
    },
    {
      "cell_type": "code",
      "source": [
        "spm = gpax.sPM(power_law1, power_law1_prior)\n",
        "spm.fit(key1, X_measured, y_measured)\n",
        "mean, samples = spm.predict(key2, X_unmeasured)"
      ],
      "metadata": {
        "colab": {
          "base_uri": "https://localhost:8080/"
        },
        "outputId": "5237efed-974a-4a41-8139-757eedbc6b0e",
        "id": "UmNzDj7mZLLZ"
      },
      "execution_count": null,
      "outputs": [
        {
          "output_type": "stream",
          "name": "stderr",
          "text": [
            "sample: 100%|██████████| 4000/4000 [00:09<00:00, 422.79it/s, 31 steps of size 1.50e-01. acc. prob=0.92]\n"
          ]
        },
        {
          "output_type": "stream",
          "name": "stdout",
          "text": [
            "\n",
            "                mean       std    median      5.0%     95.0%     n_eff     r_hat\n",
            "     beta1      0.50      0.01      0.50      0.47      0.52    587.48      1.00\n",
            "     beta2      2.05      0.03      2.05      2.01      2.09    577.13      1.00\n",
            "       sig      0.14      0.01      0.14      0.12      0.16    784.43      1.00\n",
            "\n",
            "Number of divergences: 0\n"
          ]
        }
      ]
    },
    {
      "cell_type": "code",
      "source": [
        "# Plot results\n",
        "_, ax = plt.subplots(dpi=100)\n",
        "ax.set_xlabel(\"$x$\")\n",
        "ax.set_ylabel(\"$y$\")\n",
        "ax.scatter(X_measured, y_measured, marker='x', c='k', zorder=1, label=\"Noisy observations\", alpha=0.7)\n",
        "ax.plot(X, y, c='black', zorder=0, label=\"Ground truth\")\n",
        "for y1 in samples:\n",
        "    ax.plot(X_unmeasured, y1, lw=.1, zorder=0, c='r', alpha=.1)\n",
        "l, = ax.plot(X_unmeasured, samples[0], lw=1, c='r', alpha=1, label=\"Sampled predictions\")\n",
        "ax.plot(X_unmeasured, mean, lw=1.5, zorder=1, c='b', label='Predictive mean')\n",
        "ax.legend(loc='best')\n",
        "l.set_alpha(0)"
      ],
      "metadata": {
        "colab": {
          "base_uri": "https://localhost:8080/",
          "height": 382
        },
        "outputId": "309fde68-f536-44aa-ac7c-23498e803fe1",
        "id": "dRE42cDeZLLa"
      },
      "execution_count": null,
      "outputs": [
        {
          "output_type": "display_data",
          "data": {
            "text/plain": [
              "<Figure size 600x400 with 1 Axes>"
            ],
            "image/png": "[encoded data removed]"
          },
          "metadata": {
            "needs_background": "light"
          }
        }
      ]
    },
    {
      "cell_type": "markdown",
      "source": [
        "Clearly, the prediction isn't very good (note, by the way, that in realistic or even digital twin settings we won't have the ground truth for the \"unmeasured\" part)."
      ],
      "metadata": {
        "id": "mhCL3I09ZPH6"
      }
    },
    {
      "cell_type": "markdown",
      "source": [
        "Let's see if we can use the results of WAIC to select a subset of models (hypotheses) and actively learn which one is the correct one on the \"unmeasured\" part.\n",
        "\n",
        "First, let's define some helper function. For more details about hypothesis learning, see [this paper](https://onlinelibrary.wiley.com/doi/10.1002/adma.202201345?af=R)."
      ],
      "metadata": {
        "id": "ZxyfSmG3eTWx"
      }
    },
    {
      "cell_type": "code",
      "source": [
        "def get_best_model(record):\n",
        "    return record[:,1].argmax()\n",
        "\n",
        "def update_record(record, action, r):\n",
        "    new_r = (record[action, 0] * record[action, 1] + r) / (record[action, 0] + 1)\n",
        "    record[action, 0] += 1\n",
        "    record[action, 1] = new_r\n",
        "    return record\n",
        "\n",
        "def get_reward(obj_history, obj):\n",
        "    \"\"\"A reward of +/-1 is given if the median uncertainty at the current step\n",
        "    is smaller/larger than the median uncertainty at the previous step\"\"\"\n",
        "    if jnp.nanmedian(obj) < obj_history[-1]:  # one can use integral uncertainty instead of median\n",
        "        r = 1\n",
        "    else:\n",
        "        r = -1\n",
        "    return r\n",
        "\n",
        "def step(model, model_prior, X_measured, y_measured, X_unmeasured=None,\n",
        "         gp_wrap=False, num_restarts=1, gp_kernel_prior=None, **kwargs):\n",
        "    \"\"\"Compute model posterior and use it to derive acqusition function\"\"\"\n",
        "    verbose = kwargs.get(\"print_summary\", True)\n",
        "    sgr = numpyro.diagnostics.split_gelman_rubin\n",
        "    for i in range(num_restarts):\n",
        "        rng_key, rng_key_predict = gpax.utils.get_keys(i)\n",
        "        # Get/update model posterior\n",
        "        if gp_wrap:  # wrap model into a gaussian process (gives more flexibility)\n",
        "            model = gpax.ExactGP(\n",
        "                1, 'Matern', kernel_prior=gp_kernel_prior,\n",
        "                mean_fn=model, mean_fn_prior=model_prior)\n",
        "            model.fit(\n",
        "                rng_key, X_measured, y_measured, num_warmup=2000,\n",
        "                num_samples=2000, num_chains=1, print_summary=verbose)\n",
        "        else:  # use a standalone model\n",
        "            model = gpax.sPM(model, model_prior)\n",
        "            model.fit(rng_key, X_measured, y_measured, num_warmup=2000,\n",
        "                num_samples=2000, num_chains=1, print_summary=verbose)\n",
        "        rhats = [sgr(v).item() for (k,v) in model.get_samples(1).items() if k != 'mu']\n",
        "        if max(rhats) < 1.1:\n",
        "            break\n",
        "    # Compute acquisition function\n",
        "    obj = 0\n",
        "    if X_unmeasured is not None:\n",
        "        mean, samples = model.predict(rng_key, X_unmeasured)\n",
        "        obj = samples.squeeze().var(0)\n",
        "    return obj, model\n",
        "\n",
        "def update_datapoints(point_idx, point_measured, X_meas, y_meas, X_unmeas, y_unmeas):\n",
        "    \"\"\"Update \"measured\" dummy data points\"\"\"\n",
        "    X_meas = jnp.append(X_meas, X_unmeas[point_idx])\n",
        "    X_unmeas = jnp.delete(X_unmeas, point_idx)\n",
        "    y_meas = jnp.append(y_meas, point_measured)\n",
        "    y_unmeas = jnp.delete(y_unmeas, point_idx)\n",
        "    return X_meas, y_meas, X_unmeas, y_unmeas"
      ],
      "metadata": {
        "id": "FIM9q2H8eVWG"
      },
      "execution_count": null,
      "outputs": []
    },
    {
      "cell_type": "markdown",
      "source": [
        "We will work only with the \"unmeasured\" part, but we'll need a few points to initalize it:"
      ],
      "metadata": {
        "id": "DRRpoBk-JUsX"
      }
    },
    {
      "cell_type": "code",
      "source": [
        "idx = np.random.randint(0, len(y_unmeasured), 3)\n",
        "X_measured = X_unmeasured[idx]\n",
        "y_measured = y_unmeasured[idx]\n",
        "X_unmeasured = np.delete(X_unmeasured, idx)\n",
        "y_unmeasured = np.delete(y_unmeasured, idx)\n",
        "\n",
        "print(X_measured.shape, X_unmeasured.shape)"
      ],
      "metadata": {
        "colab": {
          "base_uri": "https://localhost:8080/"
        },
        "id": "jfVNl8WhCqWH",
        "outputId": "9fe14616-4500-4a64-e524-9c4454a554fd"
      },
      "execution_count": null,
      "outputs": [
        {
          "output_type": "stream",
          "name": "stdout",
          "text": [
            "(3,) (27,)\n"
          ]
        }
      ]
    },
    {
      "cell_type": "markdown",
      "source": [
        "Run the hypothesis learning algorithm:"
      ],
      "metadata": {
        "id": "0D3dDGJNWHww"
      }
    },
    {
      "cell_type": "code",
      "source": [
        "exploration_steps = 15\n",
        "eps = 0.4  # epsilon in epsilon-greedy algorithm\n",
        "warmup_steps = 5\n",
        "models = [power_law1, power_law2, linear2, exponential1, linear1]\n",
        "model_priors = [power_law1_prior, power_law2_prior, linear2_prior, exponential1_prior, linear1_prior]\n",
        "\n",
        "np.random.seed(1)  # rng seed for epsilon-greedy sampling\n",
        "record = np.zeros((len(models), 2))\n",
        "model_choices = []\n",
        "obj_history = []\n",
        "# Warm-up phase\n",
        "for w in range(warmup_steps):\n",
        "    print(\"\\nWarmup step {}/{}\".format(w+1, warmup_steps))\n",
        "    obj_median_all, obj_all = [], []\n",
        "    # Iterate over probabilistic models in the list\n",
        "    for i, model in enumerate(models):\n",
        "        # for each model, run BI and store uncertainty values\n",
        "        obj, _ = step(model, model_priors[i], X_measured, y_measured, X_unmeasured)\n",
        "        record[i, 0] += 1\n",
        "        obj_all.append(obj)\n",
        "        obj_median_all.append(jnp.nanmedian(obj).item())  # one can use integral uncertainty instead of median\n",
        "    # 'Reward' a model that has the smallest integral/median uncertainty\n",
        "    idx = np.argmin(obj_median_all)\n",
        "    model_choices.append(idx)\n",
        "    record[idx, 1] += 1\n",
        "    # Store the integral/median uncertainty\n",
        "    obj_history.append(obj_median_all[idx])\n",
        "    # Compute the next measurement point using the predictive uncertainty of rewarded model\n",
        "    obj = obj_all[idx]\n",
        "    next_point_idx = obj.argmax()\n",
        "    # Evaluate the function in the suggested point\n",
        "    measured_point = y_unmeasured[next_point_idx] + 0.1*np.random.normal()\n",
        "    # Update training/test data\n",
        "    X_measured, y_measured, X_unmeasured, y_unmeasured = update_datapoints(\n",
        "        next_point_idx, measured_point, X_measured, y_measured, X_unmeasured, y_unmeasured)\n",
        "    # Print running rewards\n",
        "    print('\\n')\n",
        "    for i, r in enumerate(record):\n",
        "        print('model: {:<15} counts: {:<6} reward (avg): {:<3}'.format(str(models[i])[10:-19], (int(r[0])), np.round(r[1]/(w+1), 3)))\n",
        "# Average over the number of warmup steps\n",
        "record[:, 1] = record[:, 1] / warmup_steps\n",
        "\n",
        "# Run exploration\n",
        "for e in range(exploration_steps - warmup_steps):\n",
        "    print(\"\\nExploration step {}/{}\".format(e+warmup_steps+1, exploration_steps))\n",
        "    # Choose model according to epsilon-greedy policy\n",
        "    if np.random.random() > eps:\n",
        "        idx = get_best_model(record)\n",
        "    else:\n",
        "        idx = np.random.randint(len(models))\n",
        "    model_choices.append(idx)\n",
        "    print(\"Using model {}\".format(idx+1))\n",
        "    # Derive acqusition function with the selected model\n",
        "    obj, m_post = step(models[idx], model_priors[idx], X_measured, y_measured, X_unmeasured)\n",
        "    # Get reward\n",
        "    r = get_reward(obj_history, obj)\n",
        "    # Update records\n",
        "    record = update_record(record, idx, r)\n",
        "    obj_history.append(jnp.nanmedian(obj).item())\n",
        "    # Evaluate function in the suggested point\n",
        "    next_point_idx = obj.argmax()\n",
        "    measured_point = y_unmeasured[next_point_idx] + 0.1*np.random.normal()\n",
        "    # Update training/test data\n",
        "    X_measured, y_measured, X_unmeasured, y_unmeasured = update_datapoints(\n",
        "        next_point_idx, measured_point, X_measured, y_measured, X_unmeasured, y_unmeasured)\n",
        "    # Print running rewards\n",
        "    print('\\n')\n",
        "    for i, r in enumerate(record):\n",
        "        print(\"model {}:  counts {}  reward (avg) {}\".format(i+1, (int(r[0])), np.round(r[1], 3)))"
      ],
      "metadata": {
        "colab": {
          "base_uri": "https://localhost:8080/"
        },
        "id": "5q--Z-nehes6",
        "outputId": "c7a0ace7-bb26-4d2c-f955-32c1f7c3d1bd"
      },
      "execution_count": null,
      "outputs": [
        {
          "output_type": "stream",
          "name": "stdout",
          "text": [
            "\n",
            "Warmup step 1/5\n"
          ]
        },
        {
          "output_type": "stream",
          "name": "stderr",
          "text": [
            "sample: 100%|██████████| 4000/4000 [00:08<00:00, 480.56it/s, 23 steps of size 5.84e-02. acc. prob=0.82]\n"
          ]
        },
        {
          "output_type": "stream",
          "name": "stdout",
          "text": [
            "\n",
            "                mean       std    median      5.0%     95.0%     n_eff     r_hat\n",
            "     beta1      0.92      0.52      0.82      0.23      1.62    113.54      1.00\n",
            "     beta2      1.82      0.41      1.80      1.24      2.56     71.58      1.00\n",
            "       sig      1.82      1.45      1.38      0.60      3.32    207.00      1.00\n",
            "\n",
            "Number of divergences: 95\n"
          ]
        },
        {
          "output_type": "stream",
          "name": "stderr",
          "text": [
            "sample: 100%|██████████| 4000/4000 [00:08<00:00, 451.97it/s, 45 steps of size 4.47e-02. acc. prob=0.93]\n"
          ]
        },
        {
          "output_type": "stream",
          "name": "stdout",
          "text": [
            "\n",
            "                mean       std    median      5.0%     95.0%     n_eff     r_hat\n",
            "     beta0      0.12      1.04      0.13     -1.55      1.90    576.06      1.00\n",
            "     beta1      1.00      0.56      0.90      0.26      1.87    487.16      1.00\n",
            "     beta2      1.66      0.46      1.66      1.04      2.36    215.04      1.00\n",
            "       sig      2.11      1.60      1.68      0.64      3.52    180.52      1.00\n",
            "\n",
            "Number of divergences: 36\n"
          ]
        },
        {
          "output_type": "stream",
          "name": "stderr",
          "text": [
            "sample: 100%|██████████| 4000/4000 [00:08<00:00, 483.75it/s, 15 steps of size 4.10e-01. acc. prob=0.91]\n"
          ]
        },
        {
          "output_type": "stream",
          "name": "stdout",
          "text": [
            "\n",
            "                mean       std    median      5.0%     95.0%     n_eff     r_hat\n",
            "     beta0     -0.39      0.98     -0.36     -1.92      1.30   1107.08      1.00\n",
            "     beta1      2.05      0.54      2.13      1.20      2.83    464.44      1.00\n",
            "       sig      2.92      1.72      2.40      1.07      5.08    451.62      1.00\n",
            "\n",
            "Number of divergences: 0\n"
          ]
        },
        {
          "output_type": "stream",
          "name": "stderr",
          "text": [
            "sample: 100%|██████████| 4000/4000 [00:12<00:00, 323.30it/s, 127 steps of size 3.97e-03. acc. prob=0.89]\n"
          ]
        },
        {
          "output_type": "stream",
          "name": "stdout",
          "text": [
            "\n",
            "                mean       std    median      5.0%     95.0%     n_eff     r_hat\n",
            "     beta0     -0.67      0.41     -0.60     -1.22     -0.09    244.65      1.00\n",
            "     beta1      0.70      0.39      0.61      0.14      1.23    236.38      1.01\n",
            "     beta2      1.06      0.30      1.06      0.61      1.58    246.56      1.00\n",
            "       sig      0.86      0.76      0.63      0.17      1.76    139.99      1.00\n",
            "\n",
            "Number of divergences: 58\n"
          ]
        },
        {
          "output_type": "stream",
          "name": "stderr",
          "text": [
            "sample: 100%|██████████| 4000/4000 [00:07<00:00, 523.01it/s, 7 steps of size 4.20e-01. acc. prob=0.84]\n"
          ]
        },
        {
          "output_type": "stream",
          "name": "stdout",
          "text": [
            "\n",
            "                mean       std    median      5.0%     95.0%     n_eff     r_hat\n",
            "     beta1      2.33      0.53      2.45      1.53      3.02    478.56      1.00\n",
            "       sig      3.00      1.90      2.42      1.02      5.54    452.32      1.00\n",
            "\n",
            "Number of divergences: 0\n",
            "\n",
            "\n",
            "model: power_law1      counts: 1      reward (avg): 0.0\n",
            "model: power_law2      counts: 1      reward (avg): 0.0\n",
            "model: linear2         counts: 1      reward (avg): 0.0\n",
            "model: exponential1    counts: 1      reward (avg): 1.0\n",
            "model: linear1         counts: 1      reward (avg): 0.0\n",
            "\n",
            "Warmup step 2/5\n"
          ]
        },
        {
          "output_type": "stream",
          "name": "stderr",
          "text": [
            "sample: 100%|██████████| 4000/4000 [00:09<00:00, 442.03it/s, 31 steps of size 6.29e-02. acc. prob=0.70]\n"
          ]
        },
        {
          "output_type": "stream",
          "name": "stdout",
          "text": [
            "\n",
            "                mean       std    median      5.0%     95.0%     n_eff     r_hat\n",
            "     beta1      0.77      0.45      0.66      0.24      1.46     61.96      1.03\n",
            "     beta2      1.99      0.37      1.98      1.43      2.54     39.45      1.04\n",
            "       sig      1.63      0.88      1.39      0.71      2.61     67.95      1.04\n",
            "\n",
            "Number of divergences: 172\n"
          ]
        },
        {
          "output_type": "stream",
          "name": "stderr",
          "text": [
            "sample: 100%|██████████| 4000/4000 [00:08<00:00, 449.75it/s, 255 steps of size 2.40e-02. acc. prob=0.87]\n"
          ]
        },
        {
          "output_type": "stream",
          "name": "stdout",
          "text": [
            "\n",
            "                mean       std    median      5.0%     95.0%     n_eff     r_hat\n",
            "     beta0      0.42      1.00      0.47     -1.21      2.02    480.76      1.00\n",
            "     beta1      0.74      0.50      0.60      0.14      1.49    252.21      1.00\n",
            "     beta2      2.01      0.46      2.01      1.26      2.70    198.94      1.01\n",
            "       sig      1.75      1.24      1.46      0.51      3.07    238.64      1.00\n",
            "\n",
            "Number of divergences: 82\n"
          ]
        },
        {
          "output_type": "stream",
          "name": "stderr",
          "text": [
            "sample: 100%|██████████| 4000/4000 [00:08<00:00, 478.36it/s, 15 steps of size 4.40e-01. acc. prob=0.92]\n"
          ]
        },
        {
          "output_type": "stream",
          "name": "stdout",
          "text": [
            "\n",
            "                mean       std    median      5.0%     95.0%     n_eff     r_hat\n",
            "     beta0     -0.43      0.96     -0.43     -1.99      1.17   1092.73      1.00\n",
            "     beta1      2.28      0.52      2.37      1.51      3.06    293.56      1.00\n",
            "       sig      3.25      1.67      2.81      1.32      5.21    321.65      1.00\n",
            "\n",
            "Number of divergences: 0\n"
          ]
        },
        {
          "output_type": "stream",
          "name": "stderr",
          "text": [
            "sample: 100%|██████████| 4000/4000 [00:09<00:00, 428.19it/s, 3 steps of size 5.39e-03. acc. prob=0.44]\n"
          ]
        },
        {
          "output_type": "stream",
          "name": "stdout",
          "text": [
            "\n",
            "                mean       std    median      5.0%     95.0%     n_eff     r_hat\n",
            "     beta0     -0.39      0.25     -0.28     -0.84     -0.15     14.76      1.28\n",
            "     beta1      0.84      0.25      0.94      0.25      0.98     44.85      1.19\n",
            "     beta2      0.98      0.17      0.92      0.83      1.37     49.03      1.18\n",
            "       sig      0.30      0.42      0.14      0.12      0.63     21.46      1.18\n",
            "\n",
            "Number of divergences: 397\n"
          ]
        },
        {
          "output_type": "stream",
          "name": "stderr",
          "text": [
            "sample: 100%|██████████| 4000/4000 [00:07<00:00, 515.94it/s, 7 steps of size 4.67e-01. acc. prob=0.87]\n"
          ]
        },
        {
          "output_type": "stream",
          "name": "stdout",
          "text": [
            "\n",
            "                mean       std    median      5.0%     95.0%     n_eff     r_hat\n",
            "     beta1      2.59      0.47      2.68      1.96      3.25    378.26      1.00\n",
            "       sig      3.14      1.68      2.68      1.16      5.15    393.59      1.00\n",
            "\n",
            "Number of divergences: 0\n",
            "\n",
            "\n",
            "model: power_law1      counts: 2      reward (avg): 0.0\n",
            "model: power_law2      counts: 2      reward (avg): 0.0\n",
            "model: linear2         counts: 2      reward (avg): 0.0\n",
            "model: exponential1    counts: 2      reward (avg): 1.0\n",
            "model: linear1         counts: 2      reward (avg): 0.0\n",
            "\n",
            "Warmup step 3/5\n"
          ]
        },
        {
          "output_type": "stream",
          "name": "stderr",
          "text": [
            "sample: 100%|██████████| 4000/4000 [00:08<00:00, 453.88it/s, 7 steps of size 5.93e-03. acc. prob=0.64]  \n"
          ]
        },
        {
          "output_type": "stream",
          "name": "stdout",
          "text": [
            "\n",
            "                mean       std    median      5.0%     95.0%     n_eff     r_hat\n",
            "     beta1      0.22      0.20      0.15      0.09      0.41     89.27      1.04\n",
            "     beta2      2.81      0.34      2.96      2.24      3.17     57.75      1.07\n",
            "       sig      0.51      0.46      0.34      0.20      1.06     45.54      1.08\n",
            "\n",
            "Number of divergences: 115\n"
          ]
        },
        {
          "output_type": "stream",
          "name": "stderr",
          "text": [
            "sample: 100%|██████████| 4000/4000 [00:08<00:00, 447.57it/s, 5 steps of size 1.93e-02. acc. prob=0.35]  \n"
          ]
        },
        {
          "output_type": "stream",
          "name": "stdout",
          "text": [
            "\n",
            "                mean       std    median      5.0%     95.0%     n_eff     r_hat\n",
            "     beta0      0.64      0.61      0.71     -0.22      1.60     57.90      1.05\n",
            "     beta1      0.29      0.28      0.19      0.13      0.62     14.77      1.13\n",
            "     beta2      2.65      0.39      2.80      1.98      3.01      8.61      1.21\n",
            "       sig      0.83      0.59      0.57      0.49      1.60     12.70      1.12\n",
            "\n",
            "Number of divergences: 535\n"
          ]
        },
        {
          "output_type": "stream",
          "name": "stderr",
          "text": [
            "sample: 100%|██████████| 4000/4000 [00:08<00:00, 462.23it/s, 15 steps of size 4.13e-01. acc. prob=0.94]\n"
          ]
        },
        {
          "output_type": "stream",
          "name": "stdout",
          "text": [
            "\n",
            "                mean       std    median      5.0%     95.0%     n_eff     r_hat\n",
            "     beta0     -0.36      0.97     -0.35     -2.01      1.18    812.35      1.00\n",
            "     beta1      2.28      0.42      2.33      1.62      2.94    720.88      1.00\n",
            "       sig      3.02      1.21      2.74      1.48      4.68    742.03      1.00\n",
            "\n",
            "Number of divergences: 0\n"
          ]
        },
        {
          "output_type": "stream",
          "name": "stderr",
          "text": [
            "sample: 100%|██████████| 4000/4000 [00:11<00:00, 358.95it/s, 45 steps of size 2.62e-03. acc. prob=0.79] \n"
          ]
        },
        {
          "output_type": "stream",
          "name": "stdout",
          "text": [
            "\n",
            "                mean       std    median      5.0%     95.0%     n_eff     r_hat\n",
            "     beta0     -0.51      0.33     -0.44     -0.99     -0.12     72.85      1.00\n",
            "     beta1      0.75      0.37      0.70      0.26      1.25     57.66      1.00\n",
            "     beta2      1.06      0.22      1.03      0.76      1.39     67.52      1.00\n",
            "       sig      0.21      0.18      0.15      0.07      0.40    134.14      1.01\n",
            "\n",
            "Number of divergences: 166\n"
          ]
        },
        {
          "output_type": "stream",
          "name": "stderr",
          "text": [
            "sample: 100%|██████████| 4000/4000 [00:07<00:00, 516.93it/s, 5 steps of size 5.42e-01. acc. prob=0.88]\n"
          ]
        },
        {
          "output_type": "stream",
          "name": "stdout",
          "text": [
            "\n",
            "                mean       std    median      5.0%     95.0%     n_eff     r_hat\n",
            "     beta1      2.57      0.35      2.62      2.05      3.08    449.19      1.00\n",
            "       sig      2.94      1.28      2.60      1.33      4.56    518.58      1.00\n",
            "\n",
            "Number of divergences: 0\n",
            "\n",
            "\n",
            "model: power_law1      counts: 3      reward (avg): 0.0\n",
            "model: power_law2      counts: 3      reward (avg): 0.0\n",
            "model: linear2         counts: 3      reward (avg): 0.0\n",
            "model: exponential1    counts: 3      reward (avg): 1.0\n",
            "model: linear1         counts: 3      reward (avg): 0.0\n",
            "\n",
            "Warmup step 4/5\n"
          ]
        },
        {
          "output_type": "stream",
          "name": "stderr",
          "text": [
            "sample: 100%|██████████| 4000/4000 [00:09<00:00, 438.54it/s, 7 steps of size 2.59e-03. acc. prob=0.91]  \n"
          ]
        },
        {
          "output_type": "stream",
          "name": "stdout",
          "text": [
            "\n",
            "                mean       std    median      5.0%     95.0%     n_eff     r_hat\n",
            "     beta1      0.16      0.13      0.13      0.09      0.19     71.04      1.02\n",
            "     beta2      3.01      0.24      3.05      2.78      3.29     86.81      1.02\n",
            "       sig      0.38      0.33      0.31      0.14      0.62     89.27      1.02\n",
            "\n",
            "Number of divergences: 20\n"
          ]
        },
        {
          "output_type": "stream",
          "name": "stderr",
          "text": [
            "sample: 100%|██████████| 4000/4000 [00:09<00:00, 435.57it/s, 49 steps of size 1.78e-02. acc. prob=0.68]\n"
          ]
        },
        {
          "output_type": "stream",
          "name": "stdout",
          "text": [
            "\n",
            "                mean       std    median      5.0%     95.0%     n_eff     r_hat\n",
            "     beta0      1.04      1.05      1.04     -0.70      2.69     58.59      1.00\n",
            "     beta1      0.31      0.23      0.24      0.10      0.54    173.84      1.01\n",
            "     beta2      2.59      0.34      2.66      2.01      3.06    180.32      1.01\n",
            "       sig      0.90      0.61      0.73      0.30      1.57    158.68      1.00\n",
            "\n",
            "Number of divergences: 241\n"
          ]
        },
        {
          "output_type": "stream",
          "name": "stderr",
          "text": [
            "sample: 100%|██████████| 4000/4000 [00:08<00:00, 478.64it/s, 15 steps of size 4.59e-01. acc. prob=0.93]\n"
          ]
        },
        {
          "output_type": "stream",
          "name": "stdout",
          "text": [
            "\n",
            "                mean       std    median      5.0%     95.0%     n_eff     r_hat\n",
            "     beta0     -0.36      0.95     -0.37     -1.86      1.26   1099.51      1.00\n",
            "     beta1      2.46      0.38      2.49      1.88      3.10    654.10      1.00\n",
            "       sig      3.16      1.11      2.94      1.69      4.65    697.87      1.00\n",
            "\n",
            "Number of divergences: 0\n"
          ]
        },
        {
          "output_type": "stream",
          "name": "stderr",
          "text": [
            "sample: 100%|██████████| 4000/4000 [00:11<00:00, 354.84it/s, 99 steps of size 2.13e-03. acc. prob=0.87]  \n"
          ]
        },
        {
          "output_type": "stream",
          "name": "stdout",
          "text": [
            "\n",
            "                mean       std    median      5.0%     95.0%     n_eff     r_hat\n",
            "     beta0     -0.57      0.32     -0.51     -1.03     -0.11    104.53      1.00\n",
            "     beta1      0.67      0.34      0.60      0.19      1.21    103.76      1.00\n",
            "     beta2      1.11      0.22      1.10      0.76      1.44    102.02      1.00\n",
            "       sig      0.17      0.11      0.13      0.07      0.29    211.66      1.00\n",
            "\n",
            "Number of divergences: 57\n"
          ]
        },
        {
          "output_type": "stream",
          "name": "stderr",
          "text": [
            "sample: 100%|██████████| 4000/4000 [00:07<00:00, 505.62it/s, 5 steps of size 5.90e-01. acc. prob=0.90]\n"
          ]
        },
        {
          "output_type": "stream",
          "name": "stdout",
          "text": [
            "\n",
            "                mean       std    median      5.0%     95.0%     n_eff     r_hat\n",
            "     beta1      2.76      0.33      2.80      2.30      3.24    536.48      1.00\n",
            "       sig      3.05      1.17      2.77      1.59      4.51    589.91      1.00\n",
            "\n",
            "Number of divergences: 0\n",
            "\n",
            "\n",
            "model: power_law1      counts: 4      reward (avg): 0.0\n",
            "model: power_law2      counts: 4      reward (avg): 0.0\n",
            "model: linear2         counts: 4      reward (avg): 0.0\n",
            "model: exponential1    counts: 4      reward (avg): 1.0\n",
            "model: linear1         counts: 4      reward (avg): 0.0\n",
            "\n",
            "Warmup step 5/5\n"
          ]
        },
        {
          "output_type": "stream",
          "name": "stderr",
          "text": [
            "sample: 100%|██████████| 4000/4000 [00:08<00:00, 456.17it/s, 127 steps of size 2.89e-02. acc. prob=0.74]\n"
          ]
        },
        {
          "output_type": "stream",
          "name": "stdout",
          "text": [
            "\n",
            "                mean       std    median      5.0%     95.0%     n_eff     r_hat\n",
            "     beta1      0.13      0.02      0.13      0.10      0.17    263.41      1.01\n",
            "     beta2      3.05      0.10      3.06      2.87      3.20    309.07      1.01\n",
            "       sig      0.31      0.14      0.27      0.16      0.47    193.10      1.00\n",
            "\n",
            "Number of divergences: 49\n"
          ]
        },
        {
          "output_type": "stream",
          "name": "stderr",
          "text": [
            "sample: 100%|██████████| 4000/4000 [00:09<00:00, 424.98it/s, 5 steps of size 1.06e-02. acc. prob=0.77] \n"
          ]
        },
        {
          "output_type": "stream",
          "name": "stdout",
          "text": [
            "\n",
            "                mean       std    median      5.0%     95.0%     n_eff     r_hat\n",
            "     beta0      0.95      0.78      0.88     -0.17      2.28    201.71      1.03\n",
            "     beta1      0.14      0.06      0.13      0.06      0.22    151.53      1.04\n",
            "     beta2      3.06      0.23      3.06      2.60      3.37    106.58      1.05\n",
            "       sig      0.34      0.15      0.29      0.17      0.53    235.63      1.00\n",
            "\n",
            "Number of divergences: 112\n"
          ]
        },
        {
          "output_type": "stream",
          "name": "stderr",
          "text": [
            "sample: 100%|██████████| 4000/4000 [00:08<00:00, 476.79it/s, 15 steps of size 5.37e-01. acc. prob=0.92]\n"
          ]
        },
        {
          "output_type": "stream",
          "name": "stdout",
          "text": [
            "\n",
            "                mean       std    median      5.0%     95.0%     n_eff     r_hat\n",
            "     beta0     -0.31      0.98     -0.30     -1.81      1.42   1168.37      1.00\n",
            "     beta1      2.42      0.37      2.44      1.81      3.00    895.56      1.00\n",
            "       sig      3.11      0.97      2.92      1.78      4.51   1011.08      1.00\n",
            "\n",
            "Number of divergences: 0\n"
          ]
        },
        {
          "output_type": "stream",
          "name": "stderr",
          "text": [
            "sample: 100%|██████████| 4000/4000 [00:11<00:00, 339.27it/s, 63 steps of size 2.81e-03. acc. prob=0.76] \n"
          ]
        },
        {
          "output_type": "stream",
          "name": "stdout",
          "text": [
            "\n",
            "                mean       std    median      5.0%     95.0%     n_eff     r_hat\n",
            "     beta0     -0.53      0.25     -0.48     -0.92     -0.16    102.98      1.01\n",
            "     beta1      0.67      0.28      0.63      0.28      1.11    100.83      1.00\n",
            "     beta2      1.09      0.18      1.07      0.81      1.37    101.49      1.01\n",
            "       sig      0.16      0.07      0.14      0.09      0.24    150.79      1.00\n",
            "\n",
            "Number of divergences: 144\n"
          ]
        },
        {
          "output_type": "stream",
          "name": "stderr",
          "text": [
            "sample: 100%|██████████| 4000/4000 [00:08<00:00, 490.00it/s, 7 steps of size 6.26e-01. acc. prob=0.92]\n"
          ]
        },
        {
          "output_type": "stream",
          "name": "stdout",
          "text": [
            "\n",
            "                mean       std    median      5.0%     95.0%     n_eff     r_hat\n",
            "     beta1      2.71      0.29      2.74      2.32      3.16    734.46      1.00\n",
            "       sig      3.00      1.00      2.78      1.78      4.42    688.59      1.00\n",
            "\n",
            "Number of divergences: 0\n",
            "\n",
            "\n",
            "model: power_law1      counts: 5      reward (avg): 0.0\n",
            "model: power_law2      counts: 5      reward (avg): 0.0\n",
            "model: linear2         counts: 5      reward (avg): 0.0\n",
            "model: exponential1    counts: 5      reward (avg): 1.0\n",
            "model: linear1         counts: 5      reward (avg): 0.0\n",
            "\n",
            "Exploration step 6/15\n",
            "Using model 4\n"
          ]
        },
        {
          "output_type": "stream",
          "name": "stderr",
          "text": [
            "sample: 100%|██████████| 4000/4000 [00:11<00:00, 333.74it/s, 43 steps of size 1.94e-03. acc. prob=0.82]  \n"
          ]
        },
        {
          "output_type": "stream",
          "name": "stdout",
          "text": [
            "\n",
            "                mean       std    median      5.0%     95.0%     n_eff     r_hat\n",
            "     beta0     -0.46      0.24     -0.42     -0.81     -0.10    128.83      1.00\n",
            "     beta1      0.74      0.31      0.70      0.30      1.24    137.17      1.00\n",
            "     beta2      1.05      0.18      1.03      0.77      1.33    129.87      1.00\n",
            "       sig      0.13      0.05      0.12      0.07      0.20    273.98      1.01\n",
            "\n",
            "Number of divergences: 98\n",
            "\n",
            "\n",
            "model 1:  counts 5  reward (avg) 0.0\n",
            "model 2:  counts 5  reward (avg) 0.0\n",
            "model 3:  counts 5  reward (avg) 0.0\n",
            "model 4:  counts 6  reward (avg) 1.0\n",
            "model 5:  counts 5  reward (avg) 0.0\n",
            "\n",
            "Exploration step 7/15\n",
            "Using model 4\n"
          ]
        },
        {
          "output_type": "stream",
          "name": "stderr",
          "text": [
            "sample: 100%|██████████| 4000/4000 [00:12<00:00, 324.72it/s, 127 steps of size 2.25e-03. acc. prob=0.85]\n"
          ]
        },
        {
          "output_type": "stream",
          "name": "stdout",
          "text": [
            "\n",
            "                mean       std    median      5.0%     95.0%     n_eff     r_hat\n",
            "     beta0     -0.61      0.28     -0.56     -1.03     -0.15    130.11      1.00\n",
            "     beta1      0.60      0.28      0.55      0.18      1.00    126.98      1.00\n",
            "     beta2      1.14      0.20      1.13      0.84      1.48    127.94      1.00\n",
            "       sig      0.16      0.06      0.14      0.07      0.23    344.91      1.00\n",
            "\n",
            "Number of divergences: 35\n",
            "\n",
            "\n",
            "model 1:  counts 5  reward (avg) 0.0\n",
            "model 2:  counts 5  reward (avg) 0.0\n",
            "model 3:  counts 5  reward (avg) 0.0\n",
            "model 4:  counts 7  reward (avg) 0.714\n",
            "model 5:  counts 5  reward (avg) 0.0\n",
            "\n",
            "Exploration step 8/15\n",
            "Using model 3\n"
          ]
        },
        {
          "output_type": "stream",
          "name": "stderr",
          "text": [
            "sample: 100%|██████████| 4000/4000 [00:08<00:00, 452.23it/s, 7 steps of size 4.82e-01. acc. prob=0.93]\n"
          ]
        },
        {
          "output_type": "stream",
          "name": "stdout",
          "text": [
            "\n",
            "                mean       std    median      5.0%     95.0%     n_eff     r_hat\n",
            "     beta0     -0.16      0.96     -0.17     -1.71      1.49   1087.48      1.00\n",
            "     beta1      2.43      0.32      2.44      1.87      2.90   1060.98      1.00\n",
            "       sig      3.20      0.82      3.05      1.97      4.33   1155.47      1.00\n",
            "\n",
            "Number of divergences: 0\n",
            "\n",
            "\n",
            "model 1:  counts 5  reward (avg) 0.0\n",
            "model 2:  counts 5  reward (avg) 0.0\n",
            "model 3:  counts 6  reward (avg) -0.167\n",
            "model 4:  counts 7  reward (avg) 0.714\n",
            "model 5:  counts 5  reward (avg) 0.0\n",
            "\n",
            "Exploration step 9/15\n",
            "Using model 4\n"
          ]
        },
        {
          "output_type": "stream",
          "name": "stderr",
          "text": [
            "sample: 100%|██████████| 4000/4000 [00:13<00:00, 299.55it/s, 127 steps of size 2.04e-03. acc. prob=0.91] \n"
          ]
        },
        {
          "output_type": "stream",
          "name": "stdout",
          "text": [
            "\n",
            "                mean       std    median      5.0%     95.0%     n_eff     r_hat\n",
            "     beta0     -0.60      0.27     -0.58     -1.00     -0.15    103.11      1.00\n",
            "     beta1      0.60      0.28      0.54      0.21      1.00     88.90      1.00\n",
            "     beta2      1.14      0.19      1.14      0.83      1.44     98.14      1.00\n",
            "       sig      0.12      0.04      0.12      0.07      0.17    403.68      1.00\n",
            "\n",
            "Number of divergences: 10\n",
            "\n",
            "\n",
            "model 1:  counts 5  reward (avg) 0.0\n",
            "model 2:  counts 5  reward (avg) 0.0\n",
            "model 3:  counts 6  reward (avg) -0.167\n",
            "model 4:  counts 8  reward (avg) 0.75\n",
            "model 5:  counts 5  reward (avg) 0.0\n",
            "\n",
            "Exploration step 10/15\n",
            "Using model 4\n"
          ]
        },
        {
          "output_type": "stream",
          "name": "stderr",
          "text": [
            "sample: 100%|██████████| 4000/4000 [00:14<00:00, 273.84it/s, 127 steps of size 1.80e-03. acc. prob=0.90] \n"
          ]
        },
        {
          "output_type": "stream",
          "name": "stdout",
          "text": [
            "\n",
            "                mean       std    median      5.0%     95.0%     n_eff     r_hat\n",
            "     beta0     -0.50      0.25     -0.46     -0.86     -0.10     94.72      1.00\n",
            "     beta1      0.71      0.31      0.66      0.22      1.17     96.61      1.01\n",
            "     beta2      1.07      0.18      1.05      0.77      1.35     94.55      1.00\n",
            "       sig      0.14      0.04      0.13      0.08      0.19    327.27      1.00\n",
            "\n",
            "Number of divergences: 16\n",
            "\n",
            "\n",
            "model 1:  counts 5  reward (avg) 0.0\n",
            "model 2:  counts 5  reward (avg) 0.0\n",
            "model 3:  counts 6  reward (avg) -0.167\n",
            "model 4:  counts 9  reward (avg) 0.556\n",
            "model 5:  counts 5  reward (avg) 0.0\n",
            "\n",
            "Exploration step 11/15\n",
            "Using model 4\n"
          ]
        },
        {
          "output_type": "stream",
          "name": "stderr",
          "text": [
            "sample: 100%|██████████| 4000/4000 [00:13<00:00, 294.43it/s, 127 steps of size 1.78e-03. acc. prob=0.91]\n"
          ]
        },
        {
          "output_type": "stream",
          "name": "stdout",
          "text": [
            "\n",
            "                mean       std    median      5.0%     95.0%     n_eff     r_hat\n",
            "     beta0     -0.51      0.25     -0.48     -0.90     -0.11     95.64      1.00\n",
            "     beta1      0.70      0.31      0.64      0.25      1.13     81.08      1.00\n",
            "     beta2      1.07      0.18      1.06      0.77      1.37     88.94      1.00\n",
            "       sig      0.13      0.03      0.12      0.08      0.18    467.48      1.00\n",
            "\n",
            "Number of divergences: 3\n",
            "\n",
            "\n",
            "model 1:  counts 5  reward (avg) 0.0\n",
            "model 2:  counts 5  reward (avg) 0.0\n",
            "model 3:  counts 6  reward (avg) -0.167\n",
            "model 4:  counts 10  reward (avg) 0.6\n",
            "model 5:  counts 5  reward (avg) 0.0\n",
            "\n",
            "Exploration step 12/15\n",
            "Using model 2\n"
          ]
        },
        {
          "output_type": "stream",
          "name": "stderr",
          "text": [
            "sample: 100%|██████████| 4000/4000 [00:11<00:00, 349.09it/s, 91 steps of size 3.34e-03. acc. prob=0.92] \n"
          ]
        },
        {
          "output_type": "stream",
          "name": "stdout",
          "text": [
            "\n",
            "                mean       std    median      5.0%     95.0%     n_eff     r_hat\n",
            "     beta0     -0.81      0.82     -0.92     -2.04      0.43    171.42      1.03\n",
            "     beta1      0.06      0.04      0.05      0.02      0.11    187.10      1.02\n",
            "     beta2      3.58      0.31      3.60      3.08      4.06    170.09      1.03\n",
            "       sig      0.20      0.07      0.19      0.11      0.30    232.78      1.01\n",
            "\n",
            "Number of divergences: 53\n",
            "\n",
            "\n",
            "model 1:  counts 5  reward (avg) 0.0\n",
            "model 2:  counts 6  reward (avg) -0.167\n",
            "model 3:  counts 6  reward (avg) -0.167\n",
            "model 4:  counts 10  reward (avg) 0.6\n",
            "model 5:  counts 5  reward (avg) 0.0\n",
            "\n",
            "Exploration step 13/15\n",
            "Using model 4\n"
          ]
        },
        {
          "output_type": "stream",
          "name": "stderr",
          "text": [
            "sample: 100%|██████████| 4000/4000 [00:20<00:00, 195.80it/s, 127 steps of size 2.10e-03. acc. prob=0.86]\n"
          ]
        },
        {
          "output_type": "stream",
          "name": "stdout",
          "text": [
            "\n",
            "                mean       std    median      5.0%     95.0%     n_eff     r_hat\n",
            "     beta0     -0.58      0.27     -0.54     -0.95     -0.13     93.62      1.00\n",
            "     beta1      0.62      0.27      0.58      0.20      0.99    112.00      1.00\n",
            "     beta2      1.12      0.18      1.11      0.78      1.40     96.66      1.00\n",
            "       sig      0.13      0.03      0.12      0.09      0.18    376.66      1.00\n",
            "\n",
            "Number of divergences: 23\n",
            "\n",
            "\n",
            "model 1:  counts 5  reward (avg) 0.0\n",
            "model 2:  counts 6  reward (avg) -0.167\n",
            "model 3:  counts 6  reward (avg) -0.167\n",
            "model 4:  counts 11  reward (avg) 0.636\n",
            "model 5:  counts 5  reward (avg) 0.0\n",
            "\n",
            "Exploration step 14/15\n",
            "Using model 4\n"
          ]
        },
        {
          "output_type": "stream",
          "name": "stderr",
          "text": [
            "sample: 100%|██████████| 4000/4000 [00:15<00:00, 265.02it/s, 127 steps of size 1.70e-03. acc. prob=0.95] \n"
          ]
        },
        {
          "output_type": "stream",
          "name": "stdout",
          "text": [
            "\n",
            "                mean       std    median      5.0%     95.0%     n_eff     r_hat\n",
            "     beta0     -0.60      0.26     -0.57     -1.04     -0.19     58.42      1.00\n",
            "     beta1      0.59      0.28      0.54      0.20      0.94     49.77      1.00\n",
            "     beta2      1.14      0.18      1.14      0.85      1.45     55.30      1.00\n",
            "       sig      0.12      0.03      0.12      0.08      0.16    442.32      1.00\n",
            "\n",
            "Number of divergences: 2\n",
            "\n",
            "\n",
            "model 1:  counts 5  reward (avg) 0.0\n",
            "model 2:  counts 6  reward (avg) -0.167\n",
            "model 3:  counts 6  reward (avg) -0.167\n",
            "model 4:  counts 12  reward (avg) 0.667\n",
            "model 5:  counts 5  reward (avg) 0.0\n",
            "\n",
            "Exploration step 15/15\n",
            "Using model 4\n"
          ]
        },
        {
          "output_type": "stream",
          "name": "stderr",
          "text": [
            "sample: 100%|██████████| 4000/4000 [00:15<00:00, 251.33it/s, 191 steps of size 2.44e-03. acc. prob=0.88] \n"
          ]
        },
        {
          "output_type": "stream",
          "name": "stdout",
          "text": [
            "\n",
            "                mean       std    median      5.0%     95.0%     n_eff     r_hat\n",
            "     beta0     -0.58      0.23     -0.57     -0.95     -0.19    126.64      1.01\n",
            "     beta1      0.60      0.24      0.54      0.25      0.95     96.53      1.01\n",
            "     beta2      1.13      0.16      1.14      0.89      1.44    119.17      1.01\n",
            "       sig      0.12      0.03      0.12      0.08      0.16    391.11      1.00\n",
            "\n",
            "Number of divergences: 9\n",
            "\n",
            "\n",
            "model 1:  counts 5  reward (avg) 0.0\n",
            "model 2:  counts 6  reward (avg) -0.167\n",
            "model 3:  counts 6  reward (avg) -0.167\n",
            "model 4:  counts 13  reward (avg) 0.692\n",
            "model 5:  counts 5  reward (avg) 0.0\n"
          ]
        }
      ]
    },
    {
      "cell_type": "code",
      "source": [
        "for i, r in enumerate(record):\n",
        "    print('model: {:<15} counts: {:<6} reward (avg): {:<3}'.format(str(models[i])[10:-19], (int(r[0])), np.round(r[1], 3)))"
      ],
      "metadata": {
        "colab": {
          "base_uri": "https://localhost:8080/"
        },
        "id": "Plc-1zfiKgNB",
        "outputId": "db8fb99c-b502-4d3e-b6ed-505ed8171e9f"
      },
      "execution_count": null,
      "outputs": [
        {
          "output_type": "stream",
          "name": "stdout",
          "text": [
            "model: power_law1      counts: 5      reward (avg): 0.0\n",
            "model: power_law2      counts: 6      reward (avg): -0.167\n",
            "model: linear2         counts: 6      reward (avg): -0.167\n",
            "model: exponential1    counts: 13     reward (avg): 0.692\n",
            "model: linear1         counts: 5      reward (avg): 0.0\n"
          ]
        }
      ]
    },
    {
      "cell_type": "markdown",
      "source": [
        "Looks like it identified a correct model that drives the process in the later stages. This was of course all done for synthetic data, so the next step is to repeat everything for real or simulated data."
      ],
      "metadata": {
        "id": "nfgFzJf3Kx7x"
      }
    }
  ]
}